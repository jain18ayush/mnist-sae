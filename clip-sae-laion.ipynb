{
 "cells": [
  {
   "cell_type": "code",
   "execution_count": 2,
   "metadata": {},
   "outputs": [
    {
     "name": "stdout",
     "output_type": "stream",
     "text": [
      "activations shape torch.Size([1, 1024])\n",
      "output keys dict_keys(['reconstruction', 'latent', 'experts_chosen', 'expert_prop', 'expert_weighting', 'active_latents'])\n",
      "latent shape torch.Size([1, 65536])\n",
      "reconstruction shape torch.Size([1, 1024])\n"
     ]
    }
   ],
   "source": [
    "import PIL\n",
    "from clipscope import ConfiguredViT, TopKSAE\n",
    "\n",
    "device='mps'\n",
    "filename_in_hf_repo = \"22_resid/1200013184.pt\"\n",
    "sae = TopKSAE.from_pretrained(checkpoint=filename_in_hf_repo, device=device)\n",
    "\n",
    "locations = [(20, 'resid')]\n",
    "transformer = ConfiguredViT(locations, device=device)\n",
    "\n",
    "input = PIL.Image.new(\"RGB\", (224, 224), (0, 0, 0)) # black image for testing\n",
    "\n",
    "activations = transformer.all_activations(input)[locations[0]] # (1, 257, 1024)\n",
    "assert activations.shape == (1, 257, 1024)\n",
    "\n",
    "activations = activations[:, 0] # just the cls token\n",
    "# alternatively flatten the activations\n",
    "# activations = activations.flatten(1)\n",
    "\n",
    "print('activations shape', activations.shape)\n",
    "\n",
    "output = sae.forward_verbose(activations)\n",
    "\n",
    "print('output keys', output.keys())\n",
    "\n",
    "print('latent shape', output['latent'].shape) # (1, 65536)\n",
    "print('reconstruction shape', output['reconstruction'].shape) # (1, 1024)"
   ]
  },
  {
   "cell_type": "code",
   "execution_count": null,
   "metadata": {},
   "outputs": [],
   "source": []
  }
 ],
 "metadata": {
  "kernelspec": {
   "display_name": ".venv",
   "language": "python",
   "name": "python3"
  },
  "language_info": {
   "codemirror_mode": {
    "name": "ipython",
    "version": 3
   },
   "file_extension": ".py",
   "mimetype": "text/x-python",
   "name": "python",
   "nbconvert_exporter": "python",
   "pygments_lexer": "ipython3",
   "version": "3.12.5"
  }
 },
 "nbformat": 4,
 "nbformat_minor": 2
}
