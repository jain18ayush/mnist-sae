{
 "cells": [
  {
   "cell_type": "code",
   "execution_count": 5,
   "metadata": {},
   "outputs": [],
   "source": [
    "import cv2\n",
    "import numpy as np\n",
    "from PIL import Image\n",
    "\n",
    "# Load the image using OpenCV\n",
    "img = cv2.imread(\"docs/neuron_EMNIST_depth_2/10_neuron_0_plots.png\")\n",
    "\n",
    "# Convert to HSV color space for better color segmentation\n",
    "hsv = cv2.cvtColor(img, cv2.COLOR_BGR2HSV)\n",
    "\n",
    "# Define the range for purple color in HSV\n",
    "# Adjust these values as needed to match the shade of purple in your image\n",
    "lower_purple = np.array([120, 50, 50])\n",
    "upper_purple = np.array([150, 255, 255])\n",
    "\n",
    "# Create a mask to isolate purple areas\n",
    "mask = cv2.inRange(hsv, lower_purple, upper_purple)\n",
    "\n",
    "# Find contours of the purple regions\n",
    "contours, _ = cv2.findContours(mask, cv2.RETR_EXTERNAL, cv2.CHAIN_APPROX_SIMPLE)\n",
    "\n",
    "# Prepare a list to hold each extracted purple box\n",
    "purple_boxes = []\n",
    "\n",
    "# Iterate over the contours to crop each purple box\n",
    "for contour in contours:\n",
    "    # Get bounding box for each contour\n",
    "    x, y, w, h = cv2.boundingRect(contour)\n",
    "    \n",
    "    # Crop the purple box from the original image\n",
    "    purple_box = img[y:y+h, x:x+w]\n",
    "    \n",
    "    # Optionally resize or process as needed\n",
    "    # purple_box = cv2.resize(purple_box, (28, 28))  # Example resize\n",
    "\n",
    "    # Convert to RGB format if you need to display or save with PIL\n",
    "    purple_box_rgb = cv2.cvtColor(purple_box, cv2.COLOR_BGR2RGB)\n",
    "    \n",
    "    # Add to list or save individually\n",
    "    purple_boxes.append(purple_box_rgb)\n",
    "\n",
    "    # Uncomment below to save each box as a file\n",
    "    Image.fromarray(purple_box_rgb).save(f\"purple_box_{x}_{y}.png\")\n",
    "\n",
    "# Now `purple_boxes` contains each isolated purple box with the digit inside.\n",
    "# You can feed these images into the EMNIST classifier as needed.\n"
   ]
  },
  {
   "cell_type": "code",
   "execution_count": null,
   "metadata": {},
   "outputs": [],
   "source": []
  }
 ],
 "metadata": {
  "kernelspec": {
   "display_name": ".venv",
   "language": "python",
   "name": "python3"
  },
  "language_info": {
   "codemirror_mode": {
    "name": "ipython",
    "version": 3
   },
   "file_extension": ".py",
   "mimetype": "text/x-python",
   "name": "python",
   "nbconvert_exporter": "python",
   "pygments_lexer": "ipython3",
   "version": "3.11.9"
  }
 },
 "nbformat": 4,
 "nbformat_minor": 2
}
