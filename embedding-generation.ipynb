{
 "cells": [
  {
   "cell_type": "code",
   "execution_count": 4,
   "metadata": {},
   "outputs": [
    {
     "name": "stdout",
     "output_type": "stream",
     "text": [
      "The autoreload extension is already loaded. To reload it, use:\n",
      "  %reload_ext autoreload\n"
     ]
    }
   ],
   "source": [
    "%load_ext autoreload\n",
    "%autoreload 2\n",
    "\n",
    "import torch\n",
    "torch.manual_seed(42)\n",
    "\n",
    "import os \n",
    "path = '/Volumes/Ayush_Drive/mnist/'\n",
    "\n",
    "if os.path.exists(path):\n",
    "    prefix = path\n",
    "else:\n",
    "    prefix = ''"
   ]
  },
  {
   "cell_type": "code",
   "execution_count": 5,
   "metadata": {},
   "outputs": [
    {
     "name": "stderr",
     "output_type": "stream",
     "text": [
      "/var/folders/24/njx_3v7n0nj9kkzrv028sllm0000gn/T/ipykernel_7056/2698319300.py:10: FutureWarning: You are using `torch.load` with `weights_only=False` (the current default value), which uses the default pickle module implicitly. It is possible to construct malicious pickle data which will execute arbitrary code during unpickling (See https://github.com/pytorch/pytorch/blob/main/SECURITY.md#untrusted-models for more details). In a future release, the default value for `weights_only` will be flipped to `True`. This limits the functions that could be executed during unpickling. Arbitrary objects will no longer be allowed to be loaded via this mode unless they are explicitly allowlisted by the user via `torch.serialization.add_safe_globals`. We recommend you start setting `weights_only=True` for any use case where you don't have full control of the loaded file. Please open an issue on GitHub for any issues related to this experimental feature.\n",
      "  current_activations = torch.load(f'embeddings/mnist_fc1_{data_name}.pth')\n",
      "/var/folders/24/njx_3v7n0nj9kkzrv028sllm0000gn/T/ipykernel_7056/2698319300.py:27: FutureWarning: You are using `torch.load` with `weights_only=False` (the current default value), which uses the default pickle module implicitly. It is possible to construct malicious pickle data which will execute arbitrary code during unpickling (See https://github.com/pytorch/pytorch/blob/main/SECURITY.md#untrusted-models for more details). In a future release, the default value for `weights_only` will be flipped to `True`. This limits the functions that could be executed during unpickling. Arbitrary objects will no longer be allowed to be loaded via this mode unless they are explicitly allowlisted by the user via `torch.serialization.add_safe_globals`. We recommend you start setting `weights_only=True` for any use case where you don't have full control of the loaded file. Please open an issue on GitHub for any issues related to this experimental feature.\n",
      "  model.load_state_dict(torch.load(f'models/mnist-colored_sae_MNIST_depth_{depth}.pth'))\n"
     ]
    },
    {
     "name": "stdout",
     "output_type": "stream",
     "text": [
      "Processing depth 1\n"
     ]
    },
    {
     "name": "stderr",
     "output_type": "stream",
     "text": [
      "100%|██████████| 1763/1763 [00:01<00:00, 1255.12it/s]\n"
     ]
    },
    {
     "name": "stdout",
     "output_type": "stream",
     "text": [
      "Depth 1 shape: torch.Size([112800, 2304])\n",
      "Processing depth 2\n"
     ]
    },
    {
     "name": "stderr",
     "output_type": "stream",
     "text": [
      "100%|██████████| 1763/1763 [00:04<00:00, 380.94it/s]\n"
     ]
    },
    {
     "name": "stdout",
     "output_type": "stream",
     "text": [
      "Depth 2 shape: torch.Size([112800, 2304])\n",
      "Processing depth 3\n"
     ]
    },
    {
     "name": "stderr",
     "output_type": "stream",
     "text": [
      "100%|██████████| 1763/1763 [00:04<00:00, 413.18it/s]\n"
     ]
    },
    {
     "name": "stdout",
     "output_type": "stream",
     "text": [
      "Depth 3 shape: torch.Size([112800, 2304])\n",
      "Processing depth 4\n"
     ]
    },
    {
     "name": "stderr",
     "output_type": "stream",
     "text": [
      "100%|██████████| 1763/1763 [00:04<00:00, 423.38it/s]\n"
     ]
    },
    {
     "name": "stdout",
     "output_type": "stream",
     "text": [
      "Depth 4 shape: torch.Size([112800, 2304])\n",
      "Processing depth 5\n"
     ]
    },
    {
     "name": "stderr",
     "output_type": "stream",
     "text": [
      "100%|██████████| 1763/1763 [00:04<00:00, 408.93it/s]\n"
     ]
    },
    {
     "name": "stdout",
     "output_type": "stream",
     "text": [
      "Depth 5 shape: torch.Size([112800, 2304])\n",
      "Processing depth 6\n"
     ]
    },
    {
     "name": "stderr",
     "output_type": "stream",
     "text": [
      "100%|██████████| 1763/1763 [00:04<00:00, 409.56it/s]\n"
     ]
    },
    {
     "name": "stdout",
     "output_type": "stream",
     "text": [
      "Depth 6 shape: torch.Size([112800, 2304])\n",
      "Processing depth 7\n"
     ]
    },
    {
     "name": "stderr",
     "output_type": "stream",
     "text": [
      "100%|██████████| 1763/1763 [00:04<00:00, 418.92it/s]\n"
     ]
    },
    {
     "name": "stdout",
     "output_type": "stream",
     "text": [
      "Depth 7 shape: torch.Size([112800, 2304])\n",
      "Processing depth 8\n"
     ]
    },
    {
     "name": "stderr",
     "output_type": "stream",
     "text": [
      "100%|██████████| 1763/1763 [00:04<00:00, 421.10it/s]\n"
     ]
    },
    {
     "name": "stdout",
     "output_type": "stream",
     "text": [
      "Depth 8 shape: torch.Size([112800, 2304])\n",
      "Processing depth 9\n"
     ]
    },
    {
     "name": "stderr",
     "output_type": "stream",
     "text": [
      "100%|██████████| 1763/1763 [00:04<00:00, 419.01it/s]\n"
     ]
    },
    {
     "name": "stdout",
     "output_type": "stream",
     "text": [
      "Depth 9 shape: torch.Size([112800, 2304])\n"
     ]
    }
   ],
   "source": [
    "import torch \n",
    "from tqdm import tqdm\n",
    "from torch.utils.data import DataLoader, TensorDataset\n",
    "from structs.models import SimpleSAE, EnhancedSAE\n",
    "from structs.utils import fc1_config, encoder_config\n",
    "\n",
    "data_name = 'EMNIST'\n",
    "\n",
    "# Load initial activations\n",
    "current_activations = torch.load(f'embeddings/mnist_fc1_{data_name}.pth')\n",
    "\n",
    "# Process through each depth\n",
    "for depth in range(1, 10):\n",
    "    print(f\"Processing depth {depth}\")\n",
    "    \n",
    "    # Create dataset and loader from current activations\n",
    "    dataset = TensorDataset(current_activations)\n",
    "    data_loader = DataLoader(dataset, batch_size=64, shuffle=False)\n",
    "    \n",
    "    # Initialize appropriate model for this depth\n",
    "    if depth == 1:\n",
    "        model = SimpleSAE(input_dim=fc1_config.input_dim, hidden_dim=2304, l1_coeff=0.01)\n",
    "    else:\n",
    "        model = SimpleSAE(input_dim=encoder_config.input_dim, hidden_dim=encoder_config.input_dim, l1_coeff=0.01)\n",
    "    \n",
    "    # Load saved weights and prepare model\n",
    "    model.load_state_dict(torch.load(f'{prefix}models/mnist-colored_sae_MNIST_depth_{depth}.pth'))\n",
    "    model.clear_cache()\n",
    "    model.eval()\n",
    "    \n",
    "    # Process batches\n",
    "    encoded_activations = []\n",
    "    with torch.no_grad():\n",
    "        for (batch,) in tqdm(data_loader):  # Note the comma to unpack the single tensor\n",
    "            encoded, _ = model(batch)\n",
    "            encoded_activations.append(encoded)\n",
    "    \n",
    "    # Concatenate all batches\n",
    "    current_activations = torch.cat(encoded_activations, dim=0)\n",
    "    \n",
    "    # Save the results\n",
    "    torch.save(current_activations, f'{prefix}embeddings/mnist_encoder_{data_name}_depth_{depth}.pth')\n",
    "    \n",
    "    print(f\"Depth {depth} shape: {current_activations.shape}\")"
   ]
  },
  {
   "cell_type": "code",
   "execution_count": null,
   "metadata": {},
   "outputs": [],
   "source": []
  }
 ],
 "metadata": {
  "kernelspec": {
   "display_name": ".venv",
   "language": "python",
   "name": "python3"
  },
  "language_info": {
   "codemirror_mode": {
    "name": "ipython",
    "version": 3
   },
   "file_extension": ".py",
   "mimetype": "text/x-python",
   "name": "python",
   "nbconvert_exporter": "python",
   "pygments_lexer": "ipython3",
   "version": "3.11.9"
  }
 },
 "nbformat": 4,
 "nbformat_minor": 2
}
