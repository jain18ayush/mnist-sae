{
 "cells": [
  {
   "cell_type": "code",
   "execution_count": 1,
   "metadata": {},
   "outputs": [],
   "source": [
    "%load_ext autoreload\n",
    "%autoreload 2"
   ]
  },
  {
   "cell_type": "code",
   "execution_count": 2,
   "metadata": {},
   "outputs": [
    {
     "data": {
      "text/plain": [
       "<torch._C.Generator at 0x1195a4ef0>"
      ]
     },
     "execution_count": 2,
     "metadata": {},
     "output_type": "execute_result"
    }
   ],
   "source": [
    "import torch\n",
    "torch.manual_seed(42)"
   ]
  },
  {
   "cell_type": "code",
   "execution_count": 3,
   "metadata": {},
   "outputs": [],
   "source": [
    "import os \n",
    "path = '/Volumes/Sid_Drive/mnist/'\n",
    "\n",
    "if os.path.exists(path):\n",
    "    prefix = path\n",
    "else:\n",
    "    prefix = ''"
   ]
  },
  {
   "cell_type": "markdown",
   "metadata": {},
   "source": [
    "### Config Stuff"
   ]
  },
  {
   "cell_type": "code",
   "execution_count": 4,
   "metadata": {},
   "outputs": [],
   "source": [
    "# model hyperparameters\n",
    "batch_size = 64\n",
    "learning_rate = 0.001\n",
    "epochs = 5"
   ]
  },
  {
   "cell_type": "code",
   "execution_count": 5,
   "metadata": {},
   "outputs": [],
   "source": [
    "class LayerConfig:\n",
    "    def __init__(self, name, input_dim):\n",
    "        self.name = name\n",
    "        self.input_dim = input_dim\n",
    "\n",
    "# Create instances for each layer\n",
    "fc1_config = LayerConfig('fc1', 256)\n",
    "fc2_config = LayerConfig('fc2', 128)\n",
    "fc3_config = LayerConfig('fc3', 10)\n",
    "encoder_config = LayerConfig('encoder', 2304)\n",
    "decoder_config = LayerConfig('decoder', 128)"
   ]
  },
  {
   "cell_type": "markdown",
   "metadata": {},
   "source": [
    "### Load in Data"
   ]
  },
  {
   "cell_type": "code",
   "execution_count": null,
   "metadata": {},
   "outputs": [],
   "source": [
    "import torch\n",
    "import torch.nn as nn\n",
    "import torch.optim as optim\n",
    "from torchvision import datasets, transforms\n",
    "from torch.utils.data import DataLoader\n",
    "import time\n",
    "from tqdm import tqdm\n",
    "\n",
    "# Data augmentation and normalization for training\n",
    "transform_train = transforms.Compose([\n",
    "    transforms.RandomCrop(28, padding=4),\n",
    "    transforms.RandomHorizontalFlip(),\n",
    "    transforms.Grayscale(num_output_channels=3),\n",
    "    transforms.ToTensor(),\n",
    "    transforms.Normalize((0.4914, 0.4822, 0.4465), (0.2023, 0.1994, 0.2010)),\n",
    "])\n",
    "\n",
    "# Normalization for validation\n",
    "transform_val = transforms.Compose([\n",
    "    transforms.Grayscale(num_output_channels=3),\n",
    "    transforms.ToTensor(),\n",
    "    transforms.Normalize((0.4914, 0.4822, 0.4465), (0.2023, 0.1994, 0.2010)),\n",
    "])\n",
    "\n",
    "data_name = 'FashionMNIST'\n",
    "\n",
    "# Load CIFAR10 dataset\n",
    "# train_dataset = datasets.CIFAR10(root='./data', train=True, download=True, transform=transform_train)\n",
    "# val_dataset = datasets.CIFAR10(root='./data', train=False, download=True, transform=transform_val)\n",
    "\n",
    "# Load CIFAR100 dataset\n",
    "# train_dataset = datasets.CIFAR100(root='./data', train=True, download=True, transform=transform_train)\n",
    "# val_dataset = datasets.CIFAR100(root='./data', train=False, download=True, transform=transform_val)\n",
    "\n",
    "# Load EMNIST dataset\n",
    "# train_dataset = datasets.EMNIST(root='./data', split='balanced', train=True, download=True, transform=transform_train)\n",
    "# val_dataset = datasets.EMNIST(root='./data', split='balanced', train=False, download=True, transform=transform_val)\n",
    "\n",
    "# Load FashionMNIST dataset\n",
    "train_dataset = datasets.FashionMNIST(root=f'{prefix}data', train=True, download=True, transform=transform_train)\n",
    "val_dataset = datasets.FashionMNIST(root=f'{prefix}data', train=False, download=True, transform=transform_val)\n",
    "\n",
    "train_loader = DataLoader(train_dataset, batch_size=batch_size, shuffle=False, num_workers=2)\n",
    "val_loader = DataLoader(val_dataset, batch_size=batch_size, shuffle=False, num_workers=2)"
   ]
  },
  {
   "cell_type": "markdown",
   "metadata": {},
   "source": [
    "### Display the Image"
   ]
  },
  {
   "cell_type": "code",
   "execution_count": null,
   "metadata": {},
   "outputs": [],
   "source": [
    "import matplotlib.pyplot as plt\n",
    "import numpy as np\n",
    "\n",
    "def imshow(img):\n",
    "    # Undo normalization\n",
    "    mean = np.array([0.4914, 0.4822, 0.4465])\n",
    "    std = np.array([0.2023, 0.1994, 0.2010])\n",
    "    \n",
    "    # Convert to numpy and transpose from (C,H,W) to (H,W,C)\n",
    "    img = img.numpy().transpose((1, 2, 0))\n",
    "    \n",
    "    # Unnormalize\n",
    "    img = std * img + mean\n",
    "    \n",
    "    # Clip values to be between 0 and 1\n",
    "    img = np.clip(img, 0, 1)\n",
    "    \n",
    "    plt.imshow(img)\n",
    "    plt.axis('off')\n",
    "\n",
    "# Get a random image from the training set\n",
    "dataiter = iter(train_loader)\n",
    "images, labels = next(dataiter)\n",
    "\n",
    "# # Display a single image\n",
    "# plt.figure(figsize=(4, 4))\n",
    "# imshow(images[0])\n",
    "# plt.title(f'Class: {labels[0].item()}')\n",
    "# plt.show()\n",
    "\n",
    "# If you want to display the actual class name\n",
    "classes = train_dataset.classes  # Get class names\n",
    "plt.figure(figsize=(4, 4))\n",
    "imshow(images[0])\n",
    "plt.title(f'Class: {classes[labels[0].item()]}')\n",
    "plt.show()"
   ]
  },
  {
   "cell_type": "code",
   "execution_count": null,
   "metadata": {},
   "outputs": [],
   "source": [
    "from structs.models import MNISTModel, ColoredMNISTModel\n",
    "# load in trained mnist model \n",
    "model = ColoredMNISTModel()\n",
    "model.load_state_dict(torch.load('models/colored_mnist_model.pth'))"
   ]
  },
  {
   "cell_type": "code",
   "execution_count": null,
   "metadata": {},
   "outputs": [],
   "source": [
    "model.clear_cache()\n",
    "model.eval()\n",
    "total_correct = 0\n",
    "with torch.no_grad():\n",
    "    for images, labels in val_loader:\n",
    "        outputs = model(images)\n",
    "        _, predicted = torch.max(outputs, 1)\n",
    "        total_correct += (predicted == labels).sum().item()\n",
    "\n",
    "accuracy = total_correct / len(val_loader.dataset)\n",
    "print(f'Validation accuracy: {accuracy:.2f}%')"
   ]
  },
  {
   "cell_type": "markdown",
   "metadata": {},
   "source": [
    "### Get Activations"
   ]
  },
  {
   "cell_type": "code",
   "execution_count": 10,
   "metadata": {},
   "outputs": [],
   "source": [
    "selected_layer_config = fc2_config"
   ]
  },
  {
   "cell_type": "code",
   "execution_count": null,
   "metadata": {},
   "outputs": [],
   "source": [
    "from tqdm import tqdm \n",
    "import matplotlib.pyplot as plt\n",
    "\n",
    "model.clear_cache()\n",
    "model.eval()\n",
    "with torch.no_grad():\n",
    "    for images, labels in tqdm(train_loader):\n",
    "        outputs = model(images)"
   ]
  },
  {
   "cell_type": "code",
   "execution_count": null,
   "metadata": {},
   "outputs": [],
   "source": [
    "num_images = len(train_loader.dataset)\n",
    "print(f'Number of images in the train_loader: {num_images}')"
   ]
  },
  {
   "cell_type": "code",
   "execution_count": null,
   "metadata": {},
   "outputs": [],
   "source": [
    "analysis_activations = model.get_cached_activations(selected_layer_config.name)\n",
    "analysis_activations.shape"
   ]
  },
  {
   "cell_type": "code",
   "execution_count": 17,
   "metadata": {},
   "outputs": [],
   "source": [
    "torch.save(analysis_activations, f'{prefix}embeddings/mnist_{selected_layer_config.name}_{data_name}.pth')"
   ]
  },
  {
   "cell_type": "markdown",
   "metadata": {},
   "source": [
    "### Sae Analysis"
   ]
  },
  {
   "cell_type": "code",
   "execution_count": null,
   "metadata": {},
   "outputs": [],
   "source": [
    "from structs.models import SimpleSAE, EnhancedSAE\n",
    "\n",
    "input_dim = selected_layer_config.input_dim\n",
    "hidden_dim = 2304\n",
    "sae = EnhancedSAE(input_dim=input_dim, hidden_dim=hidden_dim, l1_coeff=0.01)\n",
    "sae.load_state_dict(torch.load('models/mnist_sae_colored.pth'))"
   ]
  },
  {
   "cell_type": "code",
   "execution_count": null,
   "metadata": {},
   "outputs": [],
   "source": [
    "analysis_activations = torch.load(f'{prefix}embeddings/mnist_{fc1_config.name}_{data_name}.pth')\n",
    "analysis_loader = DataLoader(analysis_activations, batch_size=batch_size, shuffle=False) # do not shuffle\n",
    "\n",
    "analysis_activations.shape"
   ]
  },
  {
   "cell_type": "code",
   "execution_count": null,
   "metadata": {},
   "outputs": [],
   "source": [
    "# pass the activations through the SAE and save the intermediary activations \n",
    "sae.clear_cache()\n",
    "sae.eval()\n",
    "with torch.no_grad():\n",
    "    for activations in tqdm(analysis_loader):\n",
    "        encoded, decoded = sae(activations, cache_activations=True)"
   ]
  },
  {
   "cell_type": "code",
   "execution_count": null,
   "metadata": {},
   "outputs": [],
   "source": [
    "sae_activations = sae.get_cached_activations('encoder')\n",
    "torch.save(sae_activations, f'{prefix}embeddings/mnist_encoder_{data_name}.pth')\n",
    "sae_activations.shape"
   ]
  },
  {
   "cell_type": "markdown",
   "metadata": {},
   "source": [
    "#### Second SAE"
   ]
  },
  {
   "cell_type": "code",
   "execution_count": 20,
   "metadata": {},
   "outputs": [],
   "source": [
    "selected_layer_config = encoder_config"
   ]
  },
  {
   "cell_type": "code",
   "execution_count": null,
   "metadata": {},
   "outputs": [],
   "source": [
    "from structs.models import SimpleSAE, EnhancedSAE\n",
    "selected_layer_config = encoder_config\n",
    "\n",
    "input_dim = selected_layer_config.input_dim\n",
    "hidden_dim = 2304\n",
    "meta_sae = EnhancedSAE(input_dim=input_dim, hidden_dim=hidden_dim, l1_coeff=0.01)\n",
    "meta_sae.load_state_dict(torch.load('models/mnist_meta_sae_colored.pth'))"
   ]
  },
  {
   "cell_type": "code",
   "execution_count": null,
   "metadata": {},
   "outputs": [],
   "source": [
    "meta_analysis_activations = torch.load(f'{prefix}embeddings/mnist_encoder_{data_name}.pth')\n",
    "meta_analysis_loader = DataLoader(meta_analysis_activations, batch_size=batch_size, shuffle=False) # do not shuffle\n",
    "\n",
    "meta_analysis_activations.shape"
   ]
  },
  {
   "cell_type": "code",
   "execution_count": null,
   "metadata": {},
   "outputs": [],
   "source": [
    "# pass the activations through the SAE and save the intermediary activations \n",
    "meta_sae.clear_cache()\n",
    "meta_sae.eval()\n",
    "with torch.no_grad():\n",
    "    for activations in tqdm(meta_analysis_loader):\n",
    "        encoded, decoded = meta_sae(activations, cache_activations=True)"
   ]
  },
  {
   "cell_type": "code",
   "execution_count": null,
   "metadata": {},
   "outputs": [],
   "source": [
    "meta_sae_activations = meta_sae.get_cached_activations('encoder')\n",
    "meta_sae_activations.shape"
   ]
  },
  {
   "cell_type": "code",
   "execution_count": 46,
   "metadata": {},
   "outputs": [],
   "source": [
    "torch.save(meta_sae_activations, f'{prefix}embeddings/mnist_meta_encoder_{data_name}.pth')"
   ]
  },
  {
   "cell_type": "markdown",
   "metadata": {},
   "source": [
    "### Top 10 images"
   ]
  },
  {
   "cell_type": "code",
   "execution_count": 51,
   "metadata": {},
   "outputs": [],
   "source": [
    "sae_activations = torch.load(f'{prefix}embeddings/mnist_encoder_depth_1_{data_name}.pth')"
   ]
  },
  {
   "cell_type": "code",
   "execution_count": 52,
   "metadata": {},
   "outputs": [],
   "source": [
    "# transpose is to make it by neuron as opposed to by sample \n",
    "transposed = sae_activations.T\n",
    "transposed.shape"
   ]
  },
  {
   "cell_type": "code",
   "execution_count": 53,
   "metadata": {},
   "outputs": [],
   "source": [
    "max_10_indices_per_neuron = torch.argsort(transposed, descending=True, dim=1)[:, :10]\n",
    "max_10_indices_per_neuron_value = torch.gather(transposed, 1, max_10_indices_per_neuron)"
   ]
  },
  {
   "cell_type": "markdown",
   "metadata": {},
   "source": [
    "### Analyze Max Activations"
   ]
  },
  {
   "cell_type": "code",
   "execution_count": 4,
   "metadata": {},
   "outputs": [],
   "source": [
    "import torch\n",
    "import matplotlib.pyplot as plt\n",
    "import seaborn as sns\n",
    "import numpy as np\n",
    "\n",
    "def plot_activation_distributions(tensor, max_10_activations, depth):\n",
    "    \"\"\"\n",
    "    Plot distributions of activations in a tensor and its top-10 values per neuron.\n",
    "    \n",
    "    Args:\n",
    "        tensor: torch.Tensor of shape [neuron_count, sample_count]\n",
    "        max_10_activations: torch.Tensor of shape [neuron_count, 10]\n",
    "    \"\"\"\n",
    "    # Convert tensors to numpy for plotting\n",
    "    all_activations = tensor.cpu().numpy().flatten()\n",
    "    max_activations = max_10_activations.cpu().numpy().flatten()\n",
    "    \n",
    "    # Create a figure with two subplots\n",
    "    fig, (ax1, ax2) = plt.subplots(1, 2, figsize=(15, 5))\n",
    "    \n",
    "    # Plot 1: Distribution of all activations\n",
    "    sns.histplot(all_activations, bins=100, kde=True, ax=ax1)\n",
    "    ax1.set_title('Distribution of All Activations')\n",
    "    ax1.set_xlabel('Activation Value')\n",
    "    ax1.set_ylabel('Count')\n",
    "    \n",
    "    # Add mean and median lines\n",
    "    mean_all = np.mean(all_activations)\n",
    "    median_all = np.median(all_activations)\n",
    "    ax1.axvline(mean_all, color='r', linestyle='--', label=f'Mean: {mean_all:.2f}')\n",
    "    ax1.axvline(median_all, color='g', linestyle='--', label=f'Median: {median_all:.2f}')\n",
    "    ax1.legend()\n",
    "    \n",
    "    # Plot 2: Distribution of top-10 activations per neuron\n",
    "    sns.histplot(max_activations, bins=50, kde=True, ax=ax2)\n",
    "    ax2.set_title('Distribution of Top-10 Activations per Neuron')\n",
    "    ax2.set_xlabel('Activation Value')\n",
    "    ax2.set_ylabel('Count')\n",
    "    \n",
    "    # Add mean and median lines\n",
    "    mean_max = np.mean(max_activations)\n",
    "    median_max = np.median(max_activations)\n",
    "    ax2.axvline(mean_max, color='r', linestyle='--', label=f'Mean: {mean_max:.2f}')\n",
    "    ax2.axvline(median_max, color='g', linestyle='--', label=f'Median: {median_max:.2f}')\n",
    "    ax2.legend()\n",
    "    \n",
    "    # Add summary statistics\n",
    "    plt.figtext(0.02, 0.02, f\"\"\"\n",
    "    All Activations Stats:\n",
    "    Mean: {mean_all:.2f}\n",
    "    Median: {median_all:.2f}\n",
    "    Std: {np.std(all_activations):.2f}\n",
    "    \n",
    "    Top-10 Activations Stats:\n",
    "    Mean: {mean_max:.2f}\n",
    "    Median: {median_max:.2f}\n",
    "    Std: {np.std(max_activations):.2f}\n",
    "    \"\"\", fontsize=10, bbox=dict(facecolor='white', alpha=0.8))\n",
    "    \n",
    "    plt.tight_layout()\n",
    "    # plt.show()\n",
    "    plt.savefig(f'plots/encoder_{data_name}_depth_{depth}.png')\n",
    "\n",
    "# Example usage:\n",
    "# tensor = your_tensor  # shape: [2304, 112800]\n",
    "# max_10_activations = your_max_10_tensor  # shape: [2304, 10]\n",
    "# plot_activation_distributions(transposed, max_10_indices_per_neuron_value)"
   ]
  },
  {
   "cell_type": "markdown",
   "metadata": {},
   "source": [
    "### Analyze Image"
   ]
  },
  {
   "cell_type": "code",
   "execution_count": 25,
   "metadata": {},
   "outputs": [],
   "source": [
    "from matplotlib import pyplot as plt\n",
    "import matplotlib.image as mpimg\n",
    "import os\n",
    "\n",
    "def plot_indices_save(indices, filepath, filename, neuron_idx):\n",
    "    count = 0\n",
    "\n",
    "    idx_tensor = []\n",
    "    for i, idx in enumerate(indices):\n",
    "        activation_value = transposed[neuron_idx][idx]\n",
    "        if transposed[neuron_idx][idx] == 0:\n",
    "            # print('skipped idx', idx)\n",
    "            continue\n",
    "        count += 1\n",
    "\n",
    "        img = train_dataset.data[idx]\n",
    "        img_filename = f'{i}_{activation_value:.2f}.png'\n",
    "        mpimg.imsave(img_filename, img)\n",
    "        idx_tensor.append(idx)\n",
    "\n",
    "        \n",
    "    os.makedirs(filepath, exist_ok=True)\n",
    "    os.makedirs(f'{filepath}/{count}_{filename}', exist_ok=True)\n",
    "    for file in os.listdir(\".\"):\n",
    "        if file.endswith(\".png\"):\n",
    "            os.rename(file, f'{filepath}/{count}_{filename}/{file}')\n",
    "    \n",
    "    import csv\n",
    "    with open(f'{filepath}/{count}_{filename}/indexes_and_activations.csv', 'w', newline='') as file:\n",
    "        writer = csv.writer(file)\n",
    "        writer.writerow([\"Index\", \"Activation Value\"])  # header\n",
    "        for idx, activation_value in zip(idx_tensor, [transposed[neuron_idx][idx].item() for idx in idx_tensor]):\n",
    "            writer.writerow([idx.item(), activation_value])\n",
    "    \n",
    "    "
   ]
  },
  {
   "cell_type": "code",
   "execution_count": 65,
   "metadata": {},
   "outputs": [],
   "source": [
    "from tqdm import tqdm\n",
    "import os \n",
    "\n",
    "filepath = f'docs/neuron_{data_name}_test'\n",
    "os.makedirs(filepath, exist_ok=True)\n",
    "\n",
    "for i in tqdm(range(len(max_10_indices_per_neuron)), desc=\"Plotting neurons\"):\n",
    "    indices = max_10_indices_per_neuron[i]\n",
    "    plot_indices_save(indices, filepath, f'neuron_{i}_plots', i)  # Save individual plots if needed\n"
   ]
  },
  {
   "cell_type": "markdown",
   "metadata": {},
   "source": [
    "### Analyze Function"
   ]
  },
  {
   "cell_type": "code",
   "execution_count": 6,
   "metadata": {},
   "outputs": [
    {
     "name": "stderr",
     "output_type": "stream",
     "text": [
      "/var/folders/bl/kzfk5ts90gj98y9jcv49ynmc0000gn/T/ipykernel_65626/1002753533.py:9: FutureWarning: You are using `torch.load` with `weights_only=False` (the current default value), which uses the default pickle module implicitly. It is possible to construct malicious pickle data which will execute arbitrary code during unpickling (See https://github.com/pytorch/pytorch/blob/main/SECURITY.md#untrusted-models for more details). In a future release, the default value for `weights_only` will be flipped to `True`. This limits the functions that could be executed during unpickling. Arbitrary objects will no longer be allowed to be loaded via this mode unless they are explicitly allowlisted by the user via `torch.serialization.add_safe_globals`. We recommend you start setting `weights_only=True` for any use case where you don't have full control of the loaded file. Please open an issue on GitHub for any issues related to this experimental feature.\n",
      "  current_activations = torch.load(f'embeddings/mnist_fc1_{data_name}.pth')\n",
      "/var/folders/bl/kzfk5ts90gj98y9jcv49ynmc0000gn/T/ipykernel_65626/1002753533.py:26: FutureWarning: You are using `torch.load` with `weights_only=False` (the current default value), which uses the default pickle module implicitly. It is possible to construct malicious pickle data which will execute arbitrary code during unpickling (See https://github.com/pytorch/pytorch/blob/main/SECURITY.md#untrusted-models for more details). In a future release, the default value for `weights_only` will be flipped to `True`. This limits the functions that could be executed during unpickling. Arbitrary objects will no longer be allowed to be loaded via this mode unless they are explicitly allowlisted by the user via `torch.serialization.add_safe_globals`. We recommend you start setting `weights_only=True` for any use case where you don't have full control of the loaded file. Please open an issue on GitHub for any issues related to this experimental feature.\n",
      "  model.load_state_dict(torch.load(f'models/mnist-colored_sae_MNIST_depth_{depth}.pth'))\n"
     ]
    },
    {
     "name": "stdout",
     "output_type": "stream",
     "text": [
      "Processing depth 1\n"
     ]
    },
    {
     "name": "stderr",
     "output_type": "stream",
     "text": [
      "100%|██████████| 782/782 [00:00<00:00, 1301.03it/s]\n"
     ]
    },
    {
     "name": "stdout",
     "output_type": "stream",
     "text": [
      "Depth 1 shape: torch.Size([50000, 2304])\n",
      "Processing depth 2\n"
     ]
    },
    {
     "name": "stderr",
     "output_type": "stream",
     "text": [
      "100%|██████████| 782/782 [00:01<00:00, 398.61it/s]\n"
     ]
    },
    {
     "name": "stdout",
     "output_type": "stream",
     "text": [
      "Depth 2 shape: torch.Size([50000, 2304])\n",
      "Processing depth 3\n"
     ]
    },
    {
     "name": "stderr",
     "output_type": "stream",
     "text": [
      "100%|██████████| 782/782 [00:02<00:00, 363.19it/s]\n"
     ]
    },
    {
     "name": "stdout",
     "output_type": "stream",
     "text": [
      "Depth 3 shape: torch.Size([50000, 2304])\n",
      "Processing depth 4\n"
     ]
    },
    {
     "name": "stderr",
     "output_type": "stream",
     "text": [
      "100%|██████████| 782/782 [00:02<00:00, 384.49it/s]\n"
     ]
    },
    {
     "name": "stdout",
     "output_type": "stream",
     "text": [
      "Depth 4 shape: torch.Size([50000, 2304])\n",
      "Processing depth 5\n"
     ]
    },
    {
     "name": "stderr",
     "output_type": "stream",
     "text": [
      "100%|██████████| 782/782 [00:02<00:00, 386.04it/s]\n"
     ]
    },
    {
     "name": "stdout",
     "output_type": "stream",
     "text": [
      "Depth 5 shape: torch.Size([50000, 2304])\n",
      "Processing depth 6\n"
     ]
    },
    {
     "name": "stderr",
     "output_type": "stream",
     "text": [
      "100%|██████████| 782/782 [00:02<00:00, 283.52it/s]\n"
     ]
    },
    {
     "name": "stdout",
     "output_type": "stream",
     "text": [
      "Depth 6 shape: torch.Size([50000, 2304])\n",
      "Processing depth 7\n"
     ]
    },
    {
     "name": "stderr",
     "output_type": "stream",
     "text": [
      "100%|██████████| 782/782 [00:02<00:00, 375.83it/s]\n"
     ]
    },
    {
     "name": "stdout",
     "output_type": "stream",
     "text": [
      "Depth 7 shape: torch.Size([50000, 2304])\n",
      "Processing depth 8\n"
     ]
    },
    {
     "name": "stderr",
     "output_type": "stream",
     "text": [
      "100%|██████████| 782/782 [00:02<00:00, 341.56it/s]\n"
     ]
    },
    {
     "name": "stdout",
     "output_type": "stream",
     "text": [
      "Depth 8 shape: torch.Size([50000, 2304])\n",
      "Processing depth 9\n"
     ]
    },
    {
     "name": "stderr",
     "output_type": "stream",
     "text": [
      "100%|██████████| 782/782 [00:02<00:00, 370.66it/s]\n"
     ]
    },
    {
     "name": "stdout",
     "output_type": "stream",
     "text": [
      "Depth 9 shape: torch.Size([50000, 2304])\n"
     ]
    }
   ],
   "source": [
    "import torch \n",
    "from tqdm import tqdm\n",
    "from torch.utils.data import DataLoader, TensorDataset\n",
    "from structs.models import SimpleSAE, EnhancedSAE\n",
    "\n",
    "data_name = 'CIFAR100'\n",
    "\n",
    "# Load initial activations\n",
    "current_activations = torch.load(f'embeddings/mnist_fc1_{data_name}.pth')\n",
    "\n",
    "# Process through each depth\n",
    "for depth in range(1, 10):\n",
    "    print(f\"Processing depth {depth}\")\n",
    "    \n",
    "    # Create dataset and loader from current activations\n",
    "    dataset = TensorDataset(current_activations)\n",
    "    data_loader = DataLoader(dataset, batch_size=64, shuffle=False)\n",
    "    \n",
    "    # Initialize appropriate model for this depth\n",
    "    if depth == 1:\n",
    "        model = SimpleSAE(input_dim=fc1_config.input_dim, hidden_dim=2304, l1_coeff=0.01)\n",
    "    else:\n",
    "        model = SimpleSAE(input_dim=encoder_config.input_dim, hidden_dim=encoder_config.input_dim, l1_coeff=0.01)\n",
    "    \n",
    "    # Load saved weights and prepare model\n",
    "    model.load_state_dict(torch.load(f'models/mnist-colored_sae_MNIST_depth_{depth}.pth'))\n",
    "    model.clear_cache()\n",
    "    model.eval()\n",
    "    \n",
    "    # Process batches\n",
    "    encoded_activations = []\n",
    "    with torch.no_grad():\n",
    "        for (batch,) in tqdm(data_loader):  # Note the comma to unpack the single tensor\n",
    "            encoded, _ = model(batch)\n",
    "            encoded_activations.append(encoded)\n",
    "    \n",
    "    # Concatenate all batches\n",
    "    current_activations = torch.cat(encoded_activations, dim=0)\n",
    "    \n",
    "    # Save the results\n",
    "    torch.save(current_activations, f'{prefix}embeddings/mnist_encoder_{data_name}_depth_{depth}.pth')\n",
    "    \n",
    "    print(f\"Depth {depth} shape: {current_activations.shape}\")"
   ]
  },
  {
   "cell_type": "code",
   "execution_count": 27,
   "metadata": {},
   "outputs": [],
   "source": [
    "from tqdm import tqdm\n",
    "import os \n",
    "\n",
    "def plot_controller(max_10_indices_per_neuron, depth):\n",
    "    filepath = f'docs/neuron_{data_name}_depth_{depth}'\n",
    "    os.makedirs(filepath, exist_ok=True)\n",
    "\n",
    "    for i in tqdm(range(len(max_10_indices_per_neuron)), desc=\"Plotting neurons\"):\n",
    "        indices = max_10_indices_per_neuron[i]\n",
    "        plot_indices_save(indices, filepath, f'neuron_{i}_plots', i)  # Save individual plots if needed"
   ]
  },
  {
   "cell_type": "code",
   "execution_count": null,
   "metadata": {},
   "outputs": [],
   "source": [
    "from tqdm import tqdm\n",
    "import torch \n",
    "import os\n",
    "\n",
    "for depth in tqdm(range(1, 10), desc=\"Analyzing depths\"):\n",
    "    activations = torch.load(f'{prefix}embeddings/mnist_encoder_depth_{depth}_{data_name}.pth')\n",
    "    transposed = activations.T\n",
    "    max_10_indices_per_neuron = torch.argsort(transposed, descending=True, dim=1)[:, :10]\n",
    "    max_10_indices_per_neuron_value = torch.gather(transposed, 1, max_10_indices_per_neuron)\n",
    "    \n",
    "    # plot_activation_distributions(transposed, max_10_indices_per_neuron_value, depth)\n",
    "    plot_controller(max_10_indices_per_neuron, depth)    "
   ]
  },
  {
   "cell_type": "code",
   "execution_count": null,
   "metadata": {},
   "outputs": [],
   "source": []
  }
 ],
 "metadata": {
  "kernelspec": {
   "display_name": "base",
   "language": "python",
   "name": "python3"
  },
  "language_info": {
   "codemirror_mode": {
    "name": "ipython",
    "version": 3
   },
   "file_extension": ".py",
   "mimetype": "text/x-python",
   "name": "python",
   "nbconvert_exporter": "python",
   "pygments_lexer": "ipython3",
   "version": "3.11.9"
  }
 },
 "nbformat": 4,
 "nbformat_minor": 2
}
