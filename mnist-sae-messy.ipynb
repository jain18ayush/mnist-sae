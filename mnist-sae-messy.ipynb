{
  "cells": [
    {
      "cell_type": "code",
      "execution_count": 1,
      "metadata": {},
      "outputs": [
        {
          "data": {
            "text/plain": [
              "<torch._C.Generator at 0x117a9eef0>"
            ]
          },
          "execution_count": 1,
          "metadata": {},
          "output_type": "execute_result"
        }
      ],
      "source": [
        "import torch\n",
        "torch.manual_seed(42)"
      ]
    },
    {
      "cell_type": "code",
      "execution_count": 2,
      "metadata": {},
      "outputs": [],
      "source": [
        "batch_size = 64"
      ]
    },
    {
      "cell_type": "markdown",
      "metadata": {},
      "source": [
        "## MNIST"
      ]
    },
    {
      "cell_type": "code",
      "execution_count": 3,
      "metadata": {},
      "outputs": [],
      "source": [
        "import torch\n",
        "import torch.nn as nn\n",
        "\n",
        "class MNISTModel(nn.Module):\n",
        "    def __init__(self):\n",
        "        super(MNISTModel, self).__init__()\n",
        "        self.fc1 = nn.Linear(28 * 28, 128)  # Input layer (28x28 pixels)\n",
        "        self.fc2 = nn.Linear(128, 64)       # Hidden layer\n",
        "        self.fc3 = nn.Linear(64, 10)        # Output layer (10 classes)\n",
        "\n",
        "        # Initialize a cache to store lists of activations\n",
        "        self.activation_cache = {\n",
        "            'fc1': [],\n",
        "            'fc2': [],\n",
        "            'fc3': []\n",
        "        }\n",
        "\n",
        "    def forward(self, x, cache_activations=True):\n",
        "        x = x.view(-1, 28 * 28)  # Flatten the input image\n",
        "        \n",
        "        # Pass through fc1 and cache activations if needed\n",
        "        fc1_out = torch.relu(self.fc1(x))\n",
        "        if cache_activations:\n",
        "            self.activation_cache['fc1'].append(fc1_out.detach().clone())  # Append fc1 activations\n",
        "        \n",
        "        # Pass through fc2 and cache activations if needed\n",
        "        fc2_out = torch.relu(self.fc2(fc1_out))\n",
        "        if cache_activations:\n",
        "            self.activation_cache['fc2'].append(fc2_out.detach().clone())  # Append fc2 activations\n",
        "        \n",
        "        # Pass through fc3 and cache activations if needed\n",
        "        fc3_out = self.fc3(fc2_out)\n",
        "        if cache_activations:\n",
        "            self.activation_cache['fc3'].append(fc3_out.detach().clone())  # Append fc3 activations\n",
        "\n",
        "        return fc3_out\n",
        "\n",
        "    # Method to retrieve cached activations for a specified layer\n",
        "    def get_cached_activations(self, layer_name):\n",
        "        return torch.cat(self.activation_cache[layer_name]) if layer_name in self.activation_cache else None\n",
        "\n",
        "    # Method to clear the cache\n",
        "    def clear_cache(self):\n",
        "        self.activation_cache = {\n",
        "            'fc1': [],\n",
        "            'fc2': [],\n",
        "            'fc3': []\n",
        "        }"
      ]
    },
    {
      "cell_type": "code",
      "execution_count": 4,
      "metadata": {
        "colab": {
          "base_uri": "https://localhost:8080/"
        },
        "collapsed": true,
        "id": "IkB3CSGham1e",
        "outputId": "eeb79734-1272-4180-e8f2-a56ec1ccb09a"
      },
      "outputs": [
        {
          "name": "stdout",
          "output_type": "stream",
          "text": [
            "Epoch [1/5], Loss: 0.2645\n",
            "Epoch [2/5], Loss: 0.1110\n",
            "Epoch [3/5], Loss: 0.0776\n",
            "Epoch [4/5], Loss: 0.0612\n",
            "Epoch [5/5], Loss: 0.0484\n"
          ]
        }
      ],
      "source": [
        "import torch\n",
        "import torch.nn as nn\n",
        "import torch.optim as optim\n",
        "from torchvision import datasets, transforms\n",
        "from torch.utils.data import DataLoader\n",
        "\n",
        "# Hyperparameters\n",
        "batch_size = 64\n",
        "learning_rate = 0.001\n",
        "epochs = 5\n",
        "\n",
        "# MNIST dataset\n",
        "transform = transforms.Compose([\n",
        "    transforms.ToTensor(),\n",
        "    transforms.Normalize((0.1307,), (0.3081,))  # Mean and std deviation of MNIST dataset\n",
        "])\n",
        "\n",
        "train_dataset = datasets.MNIST(root='./data', train=True, download=True, transform=transform)\n",
        "test_dataset = datasets.MNIST(root='./data', train=False, download=True, transform=transform)\n",
        "\n",
        "MNIST_test_dataset = test_dataset #* Test dataset for mnist class \n",
        "\n",
        "train_loader = DataLoader(dataset=train_dataset, batch_size=batch_size, shuffle=True)\n",
        "test_loader = DataLoader(dataset=test_dataset, batch_size=batch_size, shuffle=False)\n",
        "\n",
        "# Initialize model, loss function and optimizer\n",
        "model = MNISTModel()\n",
        "criterion = nn.CrossEntropyLoss()  # Cross-entropy loss for classification\n",
        "optimizer = optim.Adam(model.parameters(), lr=learning_rate)\n",
        "\n",
        "# Training loop\n",
        "all_activations = []\n",
        "\n",
        "for epoch in range(epochs):\n",
        "    model.train()\n",
        "    total_loss = 0\n",
        "    for images, labels in train_loader:\n",
        "        optimizer.zero_grad()  # Zero out previous gradients\n",
        "        outputs = model(images)  # Get output and activations from fc2\n",
        "        loss = criterion(outputs, labels)\n",
        "        loss.backward()  # Backpropagation\n",
        "        optimizer.step()  # Gradient descent\n",
        "        total_loss += loss.item()\n",
        "\n",
        "        # Store activations for the sparse autoencoder\n",
        "\n",
        "    print(f\"Epoch [{epoch+1}/{epochs}], Loss: {total_loss/len(train_loader):.4f}\")\n"
      ]
    },
    {
      "cell_type": "code",
      "execution_count": 5,
      "metadata": {},
      "outputs": [],
      "source": [
        "torch.save(model.state_dict(), 'models/mnist_model.pth')"
      ]
    },
    {
      "cell_type": "markdown",
      "metadata": {},
      "source": [
        "### Test Loop"
      ]
    },
    {
      "cell_type": "code",
      "execution_count": 6,
      "metadata": {},
      "outputs": [
        {
          "name": "stdout",
          "output_type": "stream",
          "text": [
            "Test accuracy: 97.58%\n"
          ]
        }
      ],
      "source": [
        "#* Test Accuracy Loop \n",
        "model.eval()\n",
        "with torch.no_grad():\n",
        "    correct = 0\n",
        "    total = 0\n",
        "    for images, labels in test_loader:\n",
        "        outputs = model(images)\n",
        "        _, predicted = torch.max(outputs.data, 1)\n",
        "        total += labels.size(0)\n",
        "        correct += (predicted == labels).sum().item()\n",
        "\n",
        "    print(f\"Test accuracy: {100 * correct / total}%\")"
      ]
    },
    {
      "cell_type": "markdown",
      "metadata": {},
      "source": [
        "### Cache Code"
      ]
    },
    {
      "cell_type": "code",
      "execution_count": 7,
      "metadata": {},
      "outputs": [],
      "source": [
        "#* Test Accuracy Loop \n",
        "model.clear_cache()\n",
        "model.eval()\n",
        "with torch.no_grad():\n",
        "    for images, labels in test_loader:\n",
        "        outputs = model(images, cache_activations=True)\n",
        "        _, predicted = torch.max(outputs.data, 1)"
      ]
    },
    {
      "cell_type": "code",
      "execution_count": 8,
      "metadata": {},
      "outputs": [
        {
          "data": {
            "text/plain": [
              "(torch.Size([10000, 128]), torch.Size([10000, 64]), torch.Size([10000, 10]))"
            ]
          },
          "execution_count": 8,
          "metadata": {},
          "output_type": "execute_result"
        }
      ],
      "source": [
        "model.get_cached_activations('fc1').shape, model.get_cached_activations('fc2').shape, model.get_cached_activations('fc3').shape"
      ]
    },
    {
      "cell_type": "code",
      "execution_count": 9,
      "metadata": {},
      "outputs": [
        {
          "data": {
            "text/plain": [
              "torch.Size([10000])"
            ]
          },
          "execution_count": 9,
          "metadata": {},
          "output_type": "execute_result"
        }
      ],
      "source": [
        "test_loader.dataset.targets.shape"
      ]
    },
    {
      "cell_type": "markdown",
      "metadata": {},
      "source": [
        "### Maximally Activating Image Analysis"
      ]
    },
    {
      "cell_type": "code",
      "execution_count": null,
      "metadata": {},
      "outputs": [],
      "source": [
        "import torch\n",
        "import torch.nn as nn\n",
        "import torch.nn.functional as F\n",
        "import matplotlib.pyplot as plt\n",
        "import torchvision.transforms as transforms\n",
        "import torchvision.transforms.functional as TF\n",
        "\n",
        "class AnalysisMNISTModel(nn.Module):\n",
        "    def __init__(self):\n",
        "        super(AnalysisMNISTModel, self).__init__()\n",
        "        self.fc1 = nn.Linear(28 * 28, 128)\n",
        "        self.fc2 = nn.Linear(128, 64)\n",
        "        self.fc3 = nn.Linear(64, 10)\n",
        "\n",
        "    def forward(self, x):\n",
        "        x = x.view(-1, 28 * 28)\n",
        "        fc1_out = torch.relu(self.fc1(x))\n",
        "        fc2_out = torch.relu(self.fc2(fc1_out))\n",
        "        fc3_out = self.fc3(fc2_out)\n",
        "        return fc3_out, fc1_out, fc2_out\n",
        "\n",
        "def gaussian_blur(img, kernel_size=3, sigma=1.0):\n",
        "    # Ensure the image has a batch dimension\n",
        "    if img.dim() == 3:\n",
        "        img = img.unsqueeze(0)\n",
        "    \n",
        "    # Create the Gaussian kernel\n",
        "    kernel = torch.tensor([\n",
        "        [1, 2, 1],\n",
        "        [2, 4, 2],\n",
        "        [1, 2, 1]\n",
        "    ], dtype=torch.float32).unsqueeze(0).unsqueeze(0)\n",
        "    kernel = kernel / kernel.sum()\n",
        "    \n",
        "    # Apply the convolution\n",
        "    padding = (kernel_size - 1) // 2\n",
        "    blurred = F.conv2d(img, kernel, padding=padding, groups=img.shape[1])\n",
        "    \n",
        "    return blurred.squeeze(0)  # Remove the batch dimension\n",
        "\n",
        "def activation_maximization(model, layer_index, neuron_index, num_iterations=500, learning_rate=0.1):\n",
        "    model.eval()\n",
        "    \n",
        "    # Create a random input image\n",
        "    input_image = torch.randn(1, 1, 28, 28, requires_grad=True)\n",
        "    \n",
        "    # Define the optimizer\n",
        "    optimizer = torch.optim.Adam([input_image], lr=learning_rate)\n",
        "    \n",
        "    # Define transforms for regularization\n",
        "    jitter = transforms.Compose([\n",
        "        transforms.RandomAffine(degrees=15, translate=(0.1, 0.1), scale=(0.9, 1.1), shear=15),\n",
        "    ])\n",
        "    \n",
        "    for i in range(num_iterations):\n",
        "        optimizer.zero_grad()\n",
        "        \n",
        "        # Apply jitter transformation\n",
        "        jittered_image = jitter(input_image)\n",
        "        \n",
        "        # Apply custom Gaussian blur\n",
        "        blurred_image = gaussian_blur(jittered_image, kernel_size=3, sigma=0.5)\n",
        "        \n",
        "        # Forward pass\n",
        "        _, fc1_out, fc2_out = model(blurred_image)\n",
        "        \n",
        "        # Get the activation of the specified neuron\n",
        "        if layer_index == 0:\n",
        "            target_activation = fc1_out[0, neuron_index]\n",
        "        elif layer_index == 1:\n",
        "            target_activation = fc2_out[0, neuron_index]\n",
        "        else:\n",
        "            raise ValueError(\"Invalid layer index\")\n",
        "        \n",
        "        # Compute the loss (negative activation to maximize it)\n",
        "        loss = -target_activation\n",
        "        \n",
        "        # Add L2 regularization\n",
        "        l2_reg = 1e-3 * torch.sum(input_image**2)\n",
        "        loss += l2_reg\n",
        "        \n",
        "        # Add total variation regularization\n",
        "        tv_reg = 1e-4 * (torch.sum(torch.abs(input_image[:,:,:-1] - input_image[:,:,1:])) + \n",
        "                         torch.sum(torch.abs(input_image[:,:-1,:] - input_image[:,1:,:])))\n",
        "        loss += tv_reg\n",
        "        \n",
        "        # Backward pass\n",
        "        loss.backward()\n",
        "        \n",
        "        # Update the input image\n",
        "        optimizer.step()\n",
        "        \n",
        "        # Clip the image values to be between 0 and 1\n",
        "        with torch.no_grad():\n",
        "            input_image.clamp_(0, 1)\n",
        "        \n",
        "        # Periodically apply sharpening\n",
        "        if i % 50 == 0:\n",
        "            input_image.data = sharpen(input_image.data)\n",
        "    \n",
        "    # Normalize the resulting image\n",
        "    optimized_image = input_image.squeeze().detach()\n",
        "    optimized_image = (optimized_image - optimized_image.min()) / (optimized_image.max() - optimized_image.min())\n",
        "    \n",
        "    return optimized_image\n",
        "\n",
        "def sharpen(image):\n",
        "    \"\"\"Apply a sharpening filter to the image.\"\"\"\n",
        "    blurred = gaussian_blur(image, kernel_size=3, sigma=1.0)\n",
        "    sharpened = image + (image - blurred) * 0.5\n",
        "    return torch.clamp(sharpened, 0, 1)\n",
        "\n",
        "def visualize_neuron_activations(model, layer_index, num_neurons=64):\n",
        "    rows = int((num_neurons)**0.5)\n",
        "    cols = (num_neurons + rows - 1) // rows\n",
        "    fig, axes = plt.subplots(rows, cols, figsize=(cols*3, rows*3))\n",
        "    axes = axes.ravel()\n",
        "    \n",
        "    for i in range(num_neurons):\n",
        "        optimized_image = activation_maximization(model, layer_index, i)\n",
        "        axes[i].imshow(optimized_image, cmap='gray')\n",
        "        axes[i].set_title(f'Neuron {i}')\n",
        "        axes[i].axis('off')\n",
        "    \n",
        "    # Hide any unused subplots\n",
        "    for j in range(num_neurons, len(axes)):\n",
        "        axes[j].axis('off')\n",
        "    \n",
        "    plt.tight_layout()\n",
        "    plt.savefig(f'docs/images/MNIST-activation_maximization-layer{layer_index}.png')\n",
        "    plt.show()\n",
        "\n",
        "# Assuming you have already trained your model\n",
        "model = AnalysisMNISTModel()\n",
        "# Load your trained weights here if necessary\n",
        "model.load_state_dict(torch.load('models/mnist_model.pth'))\n",
        "\n",
        "# Example usage\n",
        "visualize_neuron_activations(model, layer_index=0, num_neurons=64)  # Visualize fc2 layer"
      ]
    },
    {
      "cell_type": "markdown",
      "metadata": {},
      "source": [
        "## Feature Maps"
      ]
    },
    {
      "cell_type": "code",
      "execution_count": null,
      "metadata": {},
      "outputs": [],
      "source": [
        "def visualize_feature_maps(model, data_loader):\n",
        "    model.eval()  # Set the model to evaluation mode\n",
        "\n",
        "    for images, _ in data_loader:\n",
        "        with torch.no_grad():\n",
        "            _, fc1_out, fc2_out = model(images)\n",
        "            \n",
        "            # Visualize activations of the first image in the batch\n",
        "            plt.figure(figsize=(12, 5))\n",
        "            plt.subplot(1, 2, 1)\n",
        "            plt.bar(range(fc1_out.shape[1]), fc1_out[0].numpy())\n",
        "            plt.title('fc1 Feature Map')\n",
        "            \n",
        "            plt.subplot(1, 2, 2)\n",
        "            plt.bar(range(fc2_out.shape[1]), fc2_out[0].numpy())\n",
        "            plt.title('fc2 Feature Map')\n",
        "            plt.show()\n",
        "        \n",
        "        break  # Just show for the first batch\n",
        "\n",
        "# Example usage:\n",
        "visualize_feature_maps(model, test_loader)"
      ]
    },
    {
      "cell_type": "markdown",
      "metadata": {
        "id": "bL6Kne88HFOj"
      },
      "source": [
        "## SAE\n",
        "\n",
        "*Activations Shapes:* \n",
        "- fc1: torch.Size([10000, 128])\n",
        "- fc2: torch.Size([10000, 64])\n",
        "- fc3: torch.Size([10000, 10]))\n"
      ]
    },
    {
      "cell_type": "code",
      "execution_count": 10,
      "metadata": {},
      "outputs": [],
      "source": [
        "class LayerConfig:\n",
        "    def __init__(self, name, input_dim):\n",
        "        self.name = name\n",
        "        self.input_dim = input_dim\n",
        "\n",
        "# Create instances for each layer\n",
        "fc1_config = LayerConfig('fc1', 128)\n",
        "fc2_config = LayerConfig('fc2', 64)\n",
        "fc3_config = LayerConfig('fc3', 10)"
      ]
    },
    {
      "cell_type": "markdown",
      "metadata": {},
      "source": [
        "### Simple SAE"
      ]
    },
    {
      "cell_type": "code",
      "execution_count": 11,
      "metadata": {
        "colab": {
          "base_uri": "https://localhost:8080/"
        },
        "id": "HrVJaAeOhmi6",
        "outputId": "94f61f99-4fbe-480c-b659-2264b4f70426"
      },
      "outputs": [],
      "source": [
        "import torch\n",
        "import torch.nn as nn\n",
        "import torch.optim as optim\n",
        "from torch.utils.data import DataLoader\n",
        "from sklearn.model_selection import train_test_split\n",
        "\n",
        "class SimpleSAE(nn.Module):\n",
        "    def __init__(self, input_dim=64, hidden_dim=32, l1_coeff=0.1, seed=42):\n",
        "        super(SimpleSAE, self).__init__()\n",
        "        torch.manual_seed(seed)\n",
        "        self.encoder = nn.Linear(input_dim, hidden_dim)\n",
        "        self.decoder = nn.Linear(hidden_dim, input_dim)\n",
        "        self.l1_coeff = l1_coeff  # L1 regularization coefficient for sparsity\n",
        "        \n",
        "        # Initialize a cache to store lists of activations\n",
        "        self.activation_cache = {\n",
        "            'encoder': [],\n",
        "            'decoder': []\n",
        "        }\n",
        "\n",
        "    def forward(self, x, cache_activations=False):\n",
        "        # Encoder: Reduce the dimensionality\n",
        "        encoded = torch.relu(self.encoder(x))\n",
        "        if cache_activations:\n",
        "            self.activation_cache['encoder'].append(encoded.detach().clone())  # Append encoder activations\n",
        "\n",
        "        # Decoder: Reconstruct the original input\n",
        "        decoded = self.decoder(encoded)\n",
        "        if cache_activations:\n",
        "            self.activation_cache['decoder'].append(decoded.detach().clone())  # Append decoder activations\n",
        "\n",
        "        return encoded, decoded\n",
        "\n",
        "    def compute_loss(self, x, decoded, encoded):\n",
        "        # Reconstruction Loss (MSE)\n",
        "        recon_loss = nn.MSELoss()(decoded, x)\n",
        "\n",
        "        # L1 Sparsity Loss (L1 regularization on encoded activations)\n",
        "        l1_loss = self.l1_coeff * torch.sum(torch.abs(encoded))\n",
        "\n",
        "        # Combine losses: L = MSE + λ * L1\n",
        "        loss = recon_loss + l1_loss\n",
        "\n",
        "        return loss\n",
        "\n",
        "    # Method to retrieve cached activations for a specified layer\n",
        "    def get_cached_activations(self, layer_name):\n",
        "        return torch.cat(self.activation_cache[layer_name]) if layer_name in self.activation_cache else None\n",
        "\n",
        "    # Method to clear the cache\n",
        "    def clear_cache(self):\n",
        "        self.activation_cache = {\n",
        "            'encoder': [],\n",
        "            'decoder': []\n",
        "        }\n"
      ]
    },
    {
      "cell_type": "code",
      "execution_count": 12,
      "metadata": {},
      "outputs": [],
      "source": [
        "import math \n",
        "import torch.nn.functional as F\n",
        "\n",
        "class EnhancedSAE(nn.Module):\n",
        "    def __init__(self, input_dim=64, hidden_dim=32, l1_coeff=0.1, seed=42):\n",
        "        super(EnhancedSAE, self).__init__()\n",
        "        self.l1_coeff = l1_coeff  # L1 regularization coefficient for sparsity\n",
        "        torch.manual_seed(seed)\n",
        "\n",
        "        # Encoder and decoder with Kaiming initialization\n",
        "        self.encoder = nn.Linear(input_dim, hidden_dim)\n",
        "        self.decoder = nn.Linear(hidden_dim, input_dim)\n",
        "\n",
        "        nn.init.kaiming_uniform_(self.encoder.weight, a=math.sqrt(5))\n",
        "        nn.init.kaiming_uniform_(self.decoder.weight, a=math.sqrt(5))\n",
        "        self.encoder.bias.data.zero_()\n",
        "        self.decoder.bias.data.zero_()\n",
        "\n",
        "    def forward(self, x):\n",
        "        # Center the input\n",
        "        x_centered = x - self.decoder.bias\n",
        "        # Encoder: Reduce the dimensionality\n",
        "        encoded = F.relu(self.encoder(x_centered))\n",
        "        # Decoder: Reconstruct the original input\n",
        "        decoded = self.decoder(encoded)\n",
        "\n",
        "        return encoded, decoded\n",
        "\n",
        "    def compute_loss(self, x, decoded, encoded):\n",
        "        # Reconstruction Loss (MSE)\n",
        "        recon_loss = nn.MSELoss()(decoded, x)\n",
        "\n",
        "        # L1 Sparsity Loss (L1 regularization on encoded activations)\n",
        "        l1_loss = self.l1_coeff * torch.sum(torch.abs(encoded))\n",
        "\n",
        "        # Combine losses: L = MSE + λ * L1\n",
        "        loss = recon_loss + l1_loss\n",
        "\n",
        "        return loss\n"
      ]
    },
    {
      "cell_type": "code",
      "execution_count": 12,
      "metadata": {},
      "outputs": [
        {
          "name": "stdout",
          "output_type": "stream",
          "text": [
            "SAE Epoch [1/5], Loss: 65.4657\n",
            "SAE Epoch [2/5], Loss: 8.9580\n",
            "SAE Epoch [3/5], Loss: 8.5496\n",
            "SAE Epoch [4/5], Loss: 8.2551\n",
            "SAE Epoch [5/5], Loss: 8.0127\n"
          ]
        }
      ],
      "source": [
        "# Choose the layer configuration you want to use\n",
        "selected_layer_config = fc1_config  # Change this to fc2_config or fc3_config as needed\n",
        "\n",
        "# Use the selected layer configuration\n",
        "input_dim = selected_layer_config.input_dim\n",
        "hidden_dim = 2304\n",
        "sae = SimpleSAE(input_dim=input_dim, hidden_dim=hidden_dim, l1_coeff=0.01)\n",
        "\n",
        "# Optimizer\n",
        "optimizer_sae = optim.Adam(sae.parameters(), lr=learning_rate)\n",
        "\n",
        "# Activations loaded from cache\n",
        "train_activations = model.get_cached_activations(selected_layer_config.name)\n",
        "\n",
        "# Split the activations into train and test sets (80% train, 20% test)\n",
        "train_activations, test_activations = train_test_split(train_activations, test_size=0.2, random_state=42)\n",
        "\n",
        "# DataLoader for activations\n",
        "train_activations_loader = DataLoader(train_activations, batch_size=batch_size, shuffle=True)\n",
        "test_activations_loader = DataLoader(test_activations, batch_size=batch_size, shuffle=False)\n",
        "\n",
        "SAE_test_activations = test_activations #* Test dataset for SAE class\n",
        "\n",
        "# Training Loop for SAE\n",
        "epochs = 5  # You can adjust this based on your preference\n",
        "for epoch in range(epochs):\n",
        "    sae.train()\n",
        "    total_loss = 0\n",
        "    for batch in train_activations_loader:\n",
        "        optimizer_sae.zero_grad()  # Zero out previous gradients\n",
        "\n",
        "        # Forward pass through the SAE\n",
        "        encoded, decoded = sae(batch)\n",
        "\n",
        "        # Compute loss (MSE + sparsity penalty)\n",
        "        loss = sae.compute_loss(batch, decoded, encoded)\n",
        "\n",
        "        loss.backward()  # Backprop for SAE\n",
        "        optimizer_sae.step()  # Optimizer step\n",
        "\n",
        "        total_loss += loss.item()\n",
        "\n",
        "    print(f\"SAE Epoch [{epoch+1}/{epochs}], Loss: {total_loss/len(train_activations_loader):.4f}\")\n"
      ]
    },
    {
      "cell_type": "code",
      "execution_count": 13,
      "metadata": {},
      "outputs": [
        {
          "name": "stdout",
          "output_type": "stream",
          "text": [
            "SAE Test Loss: 7.9839\n"
          ]
        }
      ],
      "source": [
        "# Evaluation Loop for SAE\n",
        "sae.eval()\n",
        "total_test_loss = 0\n",
        "with torch.no_grad():\n",
        "    for batch in test_activations_loader:\n",
        "        # Forward pass through the SAE\n",
        "        encoded, decoded = sae(batch)\n",
        "\n",
        "        # Compute loss (MSE + sparsity penalty)\n",
        "        loss = sae.compute_loss(batch, decoded, encoded)\n",
        "\n",
        "        total_test_loss += loss.item()\n",
        "\n",
        "print(f\"SAE Test Loss: {total_test_loss/len(test_activations_loader):.4f}\")\n"
      ]
    },
    {
      "cell_type": "code",
      "execution_count": 14,
      "metadata": {},
      "outputs": [],
      "source": [
        "torch.save(sae.state_dict(), 'models/mnist_sae_d1.pth')"
      ]
    },
    {
      "cell_type": "markdown",
      "metadata": {},
      "source": [
        "### Activation Maximization"
      ]
    },
    {
      "cell_type": "code",
      "execution_count": null,
      "metadata": {},
      "outputs": [],
      "source": [
        "import torch\n",
        "import torch.nn as nn\n",
        "import numpy as np\n",
        "import matplotlib.pyplot as plt\n",
        "from sklearn.decomposition import PCA\n",
        "from sklearn.metrics.pairwise import cosine_similarity\n",
        "\n",
        "def plot_reconstructions(model, test_data, num_samples=10):\n",
        "    model.eval()\n",
        "    with torch.no_grad():\n",
        "        samples = test_data[:num_samples]\n",
        "        _, reconstructions = model(samples)\n",
        "    \n",
        "    fig, axes = plt.subplots(2, num_samples, figsize=(20, 4))\n",
        "    for i in range(num_samples):\n",
        "        axes[0, i].imshow(samples[i].reshape(8,16), cmap='gray')\n",
        "        axes[0, i].axis('off')\n",
        "        axes[0, i].set_title('Original')\n",
        "        \n",
        "        axes[1, i].imshow(reconstructions[i].reshape(8,16), cmap='gray')\n",
        "        axes[1, i].axis('off')\n",
        "        axes[1, i].set_title('Reconstructed')\n",
        "    \n",
        "    plt.tight_layout()\n",
        "    plt.show()\n",
        "\n",
        "def plot_latent_space(model, test_data):\n",
        "    model.eval()\n",
        "    with torch.no_grad():\n",
        "        encoded, _ = model(test_data)\n",
        "    \n",
        "    encoded = encoded.numpy()\n",
        "    pca = PCA(n_components=2)\n",
        "    encoded_2d = pca.fit_transform(encoded)\n",
        "    \n",
        "    plt.figure(figsize=(10, 8))\n",
        "    plt.scatter(encoded_2d[:, 0], encoded_2d[:, 1], alpha=0.5)\n",
        "    plt.title('2D PCA of Latent Space')\n",
        "    plt.xlabel('First Principal Component')\n",
        "    plt.ylabel('Second Principal Component')\n",
        "    plt.colorbar()\n",
        "    plt.show()\n",
        "\n",
        "def plot_feature_activations(model, test_data, num_features=10):\n",
        "    model.eval()\n",
        "    with torch.no_grad():\n",
        "        encoded, _ = model(test_data)\n",
        "    \n",
        "    feature_activations = encoded.mean(dim=0)\n",
        "    top_features = torch.argsort(feature_activations, descending=True)[:num_features]\n",
        "    \n",
        "    plt.figure(figsize=(12, 6))\n",
        "    plt.bar(range(num_features), feature_activations[top_features])\n",
        "    plt.title(f'Top {num_features} Most Active Features')\n",
        "    plt.xlabel('Feature Index')\n",
        "    plt.ylabel('Average Activation')\n",
        "    plt.show()\n",
        "\n",
        "def compute_cosine_similarity(model, test_data):\n",
        "    model.eval()\n",
        "    with torch.no_grad():\n",
        "        encoded, _ = model(test_data)\n",
        "    \n",
        "    encoded = encoded.numpy()\n",
        "    similarity_matrix = cosine_similarity(encoded)\n",
        "    \n",
        "    nonzero_indices = np.nonzero(similarity_matrix)\n",
        "    nonzero_values = similarity_matrix[nonzero_indices]\n",
        "    \n",
        "    plt.figure(figsize=(10, 8))\n",
        "    plt.scatter(nonzero_indices[0], nonzero_indices[1], c=nonzero_values, cmap='viridis')\n",
        "    plt.colorbar()\n",
        "    plt.title('Nonzero Cosine Similarity of Encoded Representations')\n",
        "    plt.xlabel('Sample Index')\n",
        "    plt.ylabel('Sample Index')\n",
        "    plt.show()\n",
        "\n",
        "def activation_maximization_sae(model, neuron_index, num_iterations=100, learning_rate=0.1):\n",
        "    model.eval()\n",
        "    \n",
        "    # Create a random input\n",
        "    input_data = torch.randn(1, model.encoder.in_features, requires_grad=True)\n",
        "    \n",
        "    optimizer = torch.optim.Adam([input_data], lr=learning_rate)\n",
        "    \n",
        "    for _ in range(num_iterations):\n",
        "        optimizer.zero_grad()\n",
        "        \n",
        "        # Forward pass\n",
        "        encoded, _ = model(input_data)\n",
        "        \n",
        "        # Get the activation of the specified neuron\n",
        "        target_activation = encoded[0, neuron_index]\n",
        "        \n",
        "        # Compute the loss (negative activation to maximize it)\n",
        "        loss = -target_activation\n",
        "        \n",
        "        # Backward pass\n",
        "        loss.backward()\n",
        "        \n",
        "        # Update the input\n",
        "        optimizer.step()\n",
        "    \n",
        "    # Normalize the resulting input\n",
        "    optimized_input = input_data.squeeze().detach()\n",
        "    optimized_input = (optimized_input - optimized_input.min()) / (optimized_input.max() - optimized_input.min())\n",
        "    \n",
        "    return optimized_input\n",
        "\n",
        "def visualize_neuron_activations_sae(model, num_neurons=10):\n",
        "    rows = (num_neurons + 4) // 5  # Calculate the number of rows needed\n",
        "    fig, axes = plt.subplots(rows, 5, figsize=(15, 3 * rows))\n",
        "    axes = axes.ravel()\n",
        "    \n",
        "    for i in range(num_neurons):\n",
        "        optimized_input = activation_maximization_sae(model, i)\n",
        "        axes[i].imshow(optimized_input.reshape(8, 16), cmap='gray')\n",
        "        axes[i].set_title(f'Neuron {i}')\n",
        "        axes[i].axis('off')\n",
        "    \n",
        "    # Hide any unused subplots\n",
        "    for j in range(num_neurons, len(axes)):\n",
        "        axes[j].axis('off')\n",
        "    \n",
        "    plt.tight_layout()\n",
        "    plt.show()\n",
        "\n",
        "# Example usage\n",
        "plot_reconstructions(sae, SAE_test_activations)\n",
        "plot_latent_space(sae, SAE_test_activations)\n",
        "plot_feature_activations(sae, SAE_test_activations)\n",
        "compute_cosine_similarity(sae, SAE_test_activations)\n",
        "visualize_neuron_activations_sae(sae, num_neurons=64)"
      ]
    },
    {
      "cell_type": "markdown",
      "metadata": {},
      "source": [
        "## What have I done so far? \n",
        "\n",
        "- Created MNIST: ~97% accuracy \n",
        "- Trained two SAEs on MNIST\n",
        "    - SimpleSAE (just encoder decoder)\n",
        "    - ComplexSae (Based off of Neel Nanda's sae when replicating monosemanticity paper) \n",
        "- Simple seems to performs slightly better \n",
        "\n",
        "*Set to a random seed* \n",
        " \n",
        "Next Steps: \n",
        "- Cache all activations when testing the sae\n",
        "- Take the middle layer of the encoder of sae and pass it back into simple sae \n",
        "\n",
        "Confusions: \n",
        "- Should the hidden layer of an SAE be larger than the input\n",
        "    - *What is a hidden layer?* \n",
        "\n",
        "### NEED TO TRACK MAX ACTIVATIONS"
      ]
    },
    {
      "cell_type": "markdown",
      "metadata": {},
      "source": [
        "## Meta-SAE Time"
      ]
    },
    {
      "cell_type": "code",
      "execution_count": 15,
      "metadata": {},
      "outputs": [],
      "source": [
        "encoder_config = LayerConfig('encoder', 2304)\n",
        "decoder_config = LayerConfig('decoder', 128)"
      ]
    },
    {
      "cell_type": "markdown",
      "metadata": {},
      "source": [
        "Cache activations"
      ]
    },
    {
      "cell_type": "code",
      "execution_count": 16,
      "metadata": {},
      "outputs": [],
      "source": [
        "# Evaluation Loop for SAE\n",
        "sae.clear_cache()\n",
        "sae.eval()\n",
        "with torch.no_grad():\n",
        "    for batch in test_activations_loader:\n",
        "        # Forward pass through the SAE\n",
        "        encoded, decoded = sae(batch, cache_activations=True)"
      ]
    },
    {
      "cell_type": "code",
      "execution_count": null,
      "metadata": {},
      "outputs": [],
      "source": [
        "# get cached activations\n",
        "sae.get_cached_activations('encoder').shape, sae.get_cached_activations('decoder').shape"
      ]
    },
    {
      "cell_type": "code",
      "execution_count": 18,
      "metadata": {},
      "outputs": [],
      "source": [
        "selected_layer_config = encoder_config\n",
        "input_dim = selected_layer_config.input_dim\n",
        "hidden_dim = 49152\n",
        "meta_sae = SimpleSAE(input_dim=input_dim, hidden_dim=hidden_dim, l1_coeff=0.01)\n",
        "\n",
        "optimizer_sae = optim.Adam(meta_sae.parameters(), lr=learning_rate)\n",
        "\n",
        "train_activations = sae.get_cached_activations(selected_layer_config.name)"
      ]
    },
    {
      "cell_type": "code",
      "execution_count": null,
      "metadata": {},
      "outputs": [],
      "source": [
        "\n",
        "train_activations, test_activations = train_test_split(train_activations, test_size=0.2, random_state=42)\n",
        "\n",
        "META_SAE_test_activations = test_activations #* Test dataset for META_SAE class\n",
        "\n",
        "train_activations_loader = DataLoader(train_activations, batch_size=batch_size, shuffle=True)\n",
        "test_activations_loader = DataLoader(test_activations, batch_size=batch_size, shuffle=False)\n",
        "\n",
        "epochs = 5\n",
        "for epoch in range(epochs):\n",
        "    meta_sae.train()\n",
        "    total_loss = 0\n",
        "    for batch in train_activations_loader:\n",
        "        optimizer_sae.zero_grad()\n",
        "        encoded, decoded = meta_sae(batch)\n",
        "\n",
        "        loss = meta_sae.compute_loss(batch, decoded, encoded)\n",
        "\n",
        "        loss.backward()\n",
        "        optimizer_sae.step()\n",
        "\n",
        "        total_loss += loss.item()\n",
        "\n",
        "    print(f\"SAE Epoch [{epoch+1}/{epochs}], Loss: {total_loss/len(train_activations_loader):.4f}\")"
      ]
    },
    {
      "cell_type": "code",
      "execution_count": null,
      "metadata": {},
      "outputs": [],
      "source": [
        "meta_sae.eval()\n",
        "total_test_loss = 0\n",
        "with torch.no_grad():\n",
        "    for batch in test_activations_loader:\n",
        "        # Forward pass through the SAE\n",
        "        encoded, decoded = meta_sae(batch)\n",
        "\n",
        "        # Compute loss (MSE + sparsity penalty)\n",
        "        loss = meta_sae.compute_loss(batch, decoded, encoded)\n",
        "\n",
        "        total_test_loss += loss.item()\n",
        "\n",
        "print(f\"SAE Test Loss: {total_test_loss/len(test_activations_loader):.4f}\")\n"
      ]
    },
    {
      "cell_type": "markdown",
      "metadata": {},
      "source": [
        "### Activation maximization"
      ]
    },
    {
      "cell_type": "code",
      "execution_count": null,
      "metadata": {},
      "outputs": [],
      "source": [
        "import torch\n",
        "import torch.nn as nn\n",
        "import numpy as np\n",
        "import matplotlib.pyplot as plt\n",
        "from sklearn.decomposition import PCA\n",
        "from sklearn.metrics.pairwise import cosine_similarity\n",
        "from tqdm import tqdm\n",
        "\n",
        "def plot_reconstructions(model, test_data, num_samples=10):\n",
        "    model.eval()\n",
        "    with torch.no_grad():\n",
        "        samples = test_data[:num_samples]\n",
        "        _, reconstructions = model(samples)\n",
        "    \n",
        "    fig, axes = plt.subplots(2, num_samples, figsize=(20, 4))\n",
        "    for i in range(num_samples):\n",
        "        axes[0, i].imshow(samples[i].reshape(48,48), cmap='gray')\n",
        "        axes[0, i].axis('off')\n",
        "        axes[0, i].set_title('Original')\n",
        "        \n",
        "        axes[1, i].imshow(reconstructions[i].reshape(48,48), cmap='gray')\n",
        "        axes[1, i].axis('off')\n",
        "        axes[1, i].set_title('Reconstructed')\n",
        "    \n",
        "    plt.tight_layout()\n",
        "    plt.show()\n",
        "\n",
        "def plot_latent_space(model, test_data):\n",
        "    model.eval()\n",
        "    with torch.no_grad():\n",
        "        encoded, _ = model(test_data)\n",
        "    \n",
        "    encoded = encoded.numpy()\n",
        "    pca = PCA(n_components=2)\n",
        "    encoded_2d = pca.fit_transform(encoded)\n",
        "    \n",
        "    plt.figure(figsize=(10, 8))\n",
        "    plt.scatter(encoded_2d[:, 0], encoded_2d[:, 1], alpha=0.5)\n",
        "    plt.title('2D PCA of Latent Space')\n",
        "    plt.xlabel('First Principal Component')\n",
        "    plt.ylabel('Second Principal Component')\n",
        "    plt.colorbar()\n",
        "    plt.show()\n",
        "\n",
        "def plot_feature_activations(model, test_data, num_features=10):\n",
        "    model.eval()\n",
        "    with torch.no_grad():\n",
        "        encoded, _ = model(test_data)\n",
        "    \n",
        "    feature_activations = encoded.mean(dim=0)\n",
        "    top_features = torch.argsort(feature_activations, descending=True)[:num_features]\n",
        "    \n",
        "    plt.figure(figsize=(12, 6))\n",
        "    plt.bar(range(num_features), feature_activations[top_features])\n",
        "    plt.title(f'Top {num_features} Most Active Features')\n",
        "    plt.xlabel('Feature Index')\n",
        "    plt.ylabel('Average Activation')\n",
        "    plt.show()\n",
        "\n",
        "def compute_cosine_similarity(model, test_data):\n",
        "    model.eval()\n",
        "    with torch.no_grad():\n",
        "        encoded, _ = model(test_data)\n",
        "    \n",
        "    encoded = encoded.numpy()\n",
        "    similarity_matrix = cosine_similarity(encoded)\n",
        "    \n",
        "    plt.figure(figsize=(10, 8))\n",
        "    plt.imshow(similarity_matrix, cmap='viridis')\n",
        "    plt.colorbar()\n",
        "    plt.title('Cosine Similarity of Encoded Representations')\n",
        "    plt.xlabel('Sample Index')\n",
        "    plt.ylabel('Sample Index')\n",
        "    plt.show()\n",
        "\n",
        "def activation_maximization_sae(model, neuron_index, num_iterations=100, learning_rate=0.1):\n",
        "    model.eval()\n",
        "    \n",
        "    # Create a random input\n",
        "    input_data = torch.randn(1, model.encoder.in_features, requires_grad=True)\n",
        "    \n",
        "    optimizer = torch.optim.Adam([input_data], lr=learning_rate)\n",
        "    \n",
        "    for _ in range(num_iterations):\n",
        "        optimizer.zero_grad()\n",
        "        \n",
        "        # Forward pass\n",
        "        encoded, _ = model(input_data)\n",
        "        \n",
        "        # Get the activation of the specified neuron\n",
        "        target_activation = encoded[0, neuron_index]\n",
        "        \n",
        "        # Compute the loss (negative activation to maximize it)\n",
        "        loss = -target_activation\n",
        "        \n",
        "        # Backward pass\n",
        "        loss.backward()\n",
        "        \n",
        "        # Update the input\n",
        "        optimizer.step()\n",
        "    \n",
        "    # Normalize the resulting input\n",
        "    optimized_input = input_data.squeeze().detach()\n",
        "    optimized_input = (optimized_input - optimized_input.min()) / (optimized_input.max() - optimized_input.min())\n",
        "    \n",
        "    return optimized_input\n",
        "\n",
        "def visualize_neuron_activations_sae(model, num_neurons=10):\n",
        "    rows = (num_neurons + 4) // 5  # Calculate the number of rows needed\n",
        "    fig, axes = plt.subplots(rows, 5, figsize=(15, 3 * rows))\n",
        "    axes = axes.ravel()\n",
        "    \n",
        "    for i in tqdm(range(num_neurons)):\n",
        "        optimized_input = activation_maximization_sae(model, i)\n",
        "        axes[i].imshow(optimized_input.reshape(48,48), cmap='gray')\n",
        "        axes[i].set_title(f'Neuron {i}')\n",
        "        axes[i].axis('off')\n",
        "    \n",
        "    # Hide any unused subplots\n",
        "    for j in range(num_neurons, len(axes)):\n",
        "        axes[j].axis('off')\n",
        "    \n",
        "    plt.tight_layout()\n",
        "    plt.show()\n",
        "\n",
        "# Example usage\n",
        "plot_reconstructions(meta_sae, META_SAE_test_activations)\n",
        "plot_latent_space(meta_sae, META_SAE_test_activations)\n",
        "plot_feature_activations(meta_sae, META_SAE_test_activations)\n",
        "compute_cosine_similarity(meta_sae, META_SAE_test_activations)\n",
        "visualize_neuron_activations_sae(meta_sae, num_neurons=64)"
      ]
    },
    {
      "cell_type": "markdown",
      "metadata": {},
      "source": [
        "### Notes\n",
        "\n",
        "- meta sae has reallly good loss???\n",
        "- Whats topk and why?"
      ]
    },
    {
      "cell_type": "markdown",
      "metadata": {},
      "source": [
        "## Evaluation\n",
        "\n",
        "How does ViT Prisma do thier emjoi thing? --> Want to track the change in the models understanding of the number over time. \n",
        "wth is a logit --> \n",
        "\n",
        "- Max Activation Evalution\n",
        "\n",
        "1.  MNIST: Run the train set and cache activations \n",
        "        *Store the output labels*\n",
        "2.  Take the labels from the MNIST test and run those activations through the SAE and track max activations of the encoder output layer. \n",
        "3.  Take the acrtivations of the encoder output and track max activations of the encoder output layer \n",
        "\n",
        "(2) (3) can have a function in the simple sae class to help with tracking max activations of the SAE \n",
        "\n",
        "\n",
        "- model -> MNIST \n",
        "- sae -> MNIST Sae \n",
        "- meta-sae -> Sae on MNIST Sae\n",
        "\n",
        "\n",
        "Need to rename all the data loaders to be by class\n",
        "\n",
        "### What data do I have + want?\n",
        "- labels from MNIST\n",
        "- activations of the encoder for each sae\n",
        "- activations of fc1, 2, 3 for mnist \n",
        "\n",
        "- for each activation what is the max neuron and its value --> what was the expected number "
      ]
    },
    {
      "cell_type": "markdown",
      "metadata": {},
      "source": [
        "### MNIST Max Activations\n",
        "\n",
        "1. Save the top neuron that activated and its value. \n",
        "2. Run the test set through and save the labels. \n",
        "3. After the run and having the cache iterate through the cache and labels \n",
        "4. Add to a df the argmax ( neuron) and max value \n",
        "5. add the projected label as well \n",
        "\n",
        "*Critical Oversight: The model will change its prediction over time and I am not tracking that* "
      ]
    },
    {
      "cell_type": "code",
      "execution_count": null,
      "metadata": {},
      "outputs": [],
      "source": [
        "MNIST_test_dataset #*dataset run through MNIST \n",
        "print(SAE_test_activations) #* MNIST activations run through sae\n",
        "print(META_SAE_test_activations) #* Sae activations run through meta-sae    "
      ]
    },
    {
      "cell_type": "code",
      "execution_count": null,
      "metadata": {},
      "outputs": [],
      "source": [
        "import torch\n",
        "import pandas as pd\n",
        "from torch.utils.data import DataLoader\n",
        "\n",
        "# Initialize a dictionary to store results\n",
        "results_dict = {\"Max_Value\": [], \"Neuron_Index\": [], \"Predicted_Label\": []}\n",
        "\n",
        "# Set batch size and initialize DataLoader\n",
        "batch_size = 646+\n",
        "test_loader = DataLoader(dataset=MNIST_test_dataset, batch_size=batch_size, shuffle=False)\n",
        "\n",
        "# Clear cache at the start and set model to evaluation mode\n",
        "model.clear_cache()\n",
        "model.eval()\n",
        "\n",
        "# Iterate over test data\n",
        "with torch.no_grad():\n",
        "    for images, labels in test_loader:\n",
        "        # Get outputs and cache activations for this batch\n",
        "        outputs = model(images, cache_activations=True)\n",
        "        \n",
        "        # Predicted labels for the batch\n",
        "        _, predicted = torch.max(outputs.data, 1)\n",
        "        \n",
        "        # Process activations from fc1 for the batch\n",
        "        fc1_activations = model.get_cached_activations('fc1')\n",
        "        \n",
        "        # Iterate through the batch to find max activation for each image\n",
        "        for i in range(fc1_activations.size(0)):  # Iterate through batch size\n",
        "            activations = fc1_activations[i]\n",
        "            \n",
        "            # Find the max activation value and corresponding neuron index\n",
        "            max_value, neuron_index = torch.max(activations, 0)\n",
        "            \n",
        "            # Append results to dictionary\n",
        "            results_dict[\"Max_Value\"].append(max_value.item())\n",
        "            results_dict[\"Neuron_Index\"].append(neuron_index.item())\n",
        "            results_dict[\"Predicted_Label\"].append(predicted[i].item())\n",
        "        \n",
        "        # Clear cache manually after processing this batch\n",
        "        model.clear_cache()\n",
        "\n",
        "# Convert the dictionary to a DataFrame\n",
        "MNIST_results_df = pd.DataFrame(results_dict)\n",
        "\n",
        "# After the loop, the DataFrame will contain max activations and neuron indices\n",
        "MNIST_results_df.head()"
      ]
    },
    {
      "cell_type": "code",
      "execution_count": 20,
      "metadata": {},
      "outputs": [],
      "source": [
        "MNIST_results_df.to_csv('docs/MNIST_results.csv', index=False)"
      ]
    },
    {
      "cell_type": "markdown",
      "metadata": {},
      "source": [
        "### SAE Max Activations"
      ]
    },
    {
      "cell_type": "code",
      "execution_count": null,
      "metadata": {},
      "outputs": [],
      "source": [
        "import torch\n",
        "import pandas as pd\n",
        "from torch.utils.data import DataLoader\n",
        "\n",
        "# Initialize a dictionary to store results\n",
        "results_dict = {\"Max_Value\": [], \"Neuron_Index\": []}\n",
        "\n",
        "# Set batch size and initialize DataLoader\n",
        "batch_size = 64\n",
        "test_loader = DataLoader(dataset=SAE_test_activations, batch_size=batch_size, shuffle=False)\n",
        "\n",
        "# Clear cache at the start and set model to evaluation mode\n",
        "sae.clear_cache()\n",
        "sae.eval()\n",
        "\n",
        "# Iterate over test data\n",
        "with torch.no_grad():\n",
        "    for activations in test_loader:\n",
        "        # Get outputs and cache activations for this batch\n",
        "        outputs = sae(activations, cache_activations=True)\n",
        "        \n",
        "        # Process activations from fc1 for the batch\n",
        "        fc1_activations = sae.get_cached_activations('encoder')\n",
        "        \n",
        "        # Iterate through the batch to find max activation for each image\n",
        "        for i in range(fc1_activations.size(0)):  # Iterate through batch size\n",
        "            activations = fc1_activations[i]\n",
        "            \n",
        "            # Find the max activation value and corresponding neuron index\n",
        "            max_value, neuron_index = torch.max(activations, 0)\n",
        "            \n",
        "            # Append results to dictionary\n",
        "            results_dict[\"Max_Value\"].append(max_value.item())\n",
        "            results_dict[\"Neuron_Index\"].append(neuron_index.item())\n",
        "        \n",
        "        # Clear cache manually after processing this batch\n",
        "        sae.clear_cache()\n",
        "\n",
        "# Convert the dictionary to a DataFrame\n",
        "SAE_results_df = pd.DataFrame(results_dict)\n",
        "SAE_results_df['Predicted_Label'] = MNIST_results_df['Predicted_Label']\n",
        "\n",
        "# After the loop, the DataFrame will contain max activations and neuron indices\n",
        "SAE_results_df.head()"
      ]
    },
    {
      "cell_type": "code",
      "execution_count": 22,
      "metadata": {},
      "outputs": [],
      "source": [
        "SAE_results_df.to_csv('docs/SAE_results.csv', index=False)"
      ]
    },
    {
      "cell_type": "markdown",
      "metadata": {},
      "source": [
        "### Track for each neuron what parts of the weights it is activating on"
      ]
    },
    {
      "cell_type": "markdown",
      "metadata": {},
      "source": [
        "### META-SAE Max Activations"
      ]
    },
    {
      "cell_type": "code",
      "execution_count": null,
      "metadata": {},
      "outputs": [],
      "source": [
        "import torch\n",
        "import pandas as pd\n",
        "from torch.utils.data import DataLoader\n",
        "\n",
        "# Initialize a dictionary to store results\n",
        "results_dict = {\"Max_Value\": [], \"Neuron_Index\": []}\n",
        "\n",
        "# Set batch size and initialize DataLoader\n",
        "batch_size = 64\n",
        "test_loader = DataLoader(dataset=META_SAE_test_activations, batch_size=batch_size, shuffle=False)\n",
        "\n",
        "# Clear cache at the start and set model to evaluation mode\n",
        "meta_sae.clear_cache()\n",
        "meta_sae.eval()\n",
        "\n",
        "# Iterate over test data\n",
        "with torch.no_grad():\n",
        "    for activations in test_loader:\n",
        "        # Get outputs and cache activations for this batch\n",
        "        outputs = meta_sae(activations, cache_activations=True)\n",
        "        \n",
        "        # Process activations from fc1 for the batch\n",
        "        fc1_activations = meta_sae.get_cached_activations('encoder')\n",
        "        \n",
        "        # Iterate through the batch to find max activation for each image\n",
        "        for i in range(fc1_activations.size(0)):  # Iterate through batch size\n",
        "            activations = fc1_activations[i]\n",
        "            \n",
        "            # Find the max activation value and corresponding neuron index\n",
        "            max_value, neuron_index = torch.max(activations, 0)\n",
        "            \n",
        "            # Append results to dictionary\n",
        "            results_dict[\"Max_Value\"].append(max_value.item())\n",
        "            results_dict[\"Neuron_Index\"].append(neuron_index.item())\n",
        "        \n",
        "        # Clear cache manually after processing this batch\n",
        "        meta_sae.clear_cache()\n",
        "\n",
        "# Convert the dictionary to a DataFrame\n",
        "META_SAE_results_df = pd.DataFrame(results_dict)\n",
        "META_SAE_results_df['Predicted_Label'] = MNIST_results_df['Predicted_Label']\n",
        "\n",
        "# After the loop, the DataFrame will contain max activations and neuron indices\n",
        "META_SAE_results_df.head()"
      ]
    },
    {
      "cell_type": "code",
      "execution_count": 24,
      "metadata": {},
      "outputs": [],
      "source": [
        "META_SAE_results_df.to_csv('docs/META_SAE_results.csv', index=False)"
      ]
    },
    {
      "cell_type": "markdown",
      "metadata": {},
      "source": [
        "## What have I done so far? \n",
        "\n",
        "-- created the max activation validations\n",
        "- fixed some bugs \n",
        "- cached all activations \n",
        "- looked at fc1 & encoders of both after parsing through it \n",
        "\n",
        "Next Steps: \n",
        "- Analyze the max activations + MAKE GRAPHS!!! (DONE) \n",
        "- Look at Vit-Prisma to see how they track the vision transformer over time \n",
        "- Look at [showing-sae-latents-are-not-atomic-using-meta-saes](https://www.alignmentforum.org/posts/TMAmHh4DdMr4nCSr5/showing-sae-latents-are-not-atomic-using-meta-saes) to see how they analyzed meta saes \n",
        "- automated interpretability [Anthropic Auto-Interp Methods](https://arc.net/l/quote/jukxthen)\n",
        "\n",
        "Confusions: \n",
        "- What else can I do besides max activations to track features + latents?\n",
        "- What happens when I do the decoder instead of the encoder? Can I take something out of the decoder or is the activation just the output. \n",
        "- What is an SAE dictionary size\n",
        "\n",
        "Observations: \n",
        "- The meta-sae is super sparse \n",
        "- the sae is also pretty sparse \n",
        "\n",
        "Future Ideas:\n",
        "- Make it deeper (MNIST & saes)\n",
        "- Batch TOpk? "
      ]
    },
    {
      "cell_type": "markdown",
      "metadata": {},
      "source": [
        "## Goal\n",
        "- Look at ViT Prisma Shape stuff cause that one is prediction dependent\n",
        "- Try doing automated interpretability on MNIST \n",
        "- measure contribution of each feature to the output??"
      ]
    },
    {
      "cell_type": "code",
      "execution_count": 15,
      "metadata": {},
      "outputs": [],
      "source": [
        "#load in data\n",
        "# pass in 100000 images \n",
        "# for each neuron see what max activates \n",
        "# save those as graphs I guess "
      ]
    },
    {
      "cell_type": "code",
      "execution_count": 16,
      "metadata": {},
      "outputs": [],
      "source": [
        "%load_ext autoreload\n",
        "%autoreload 2"
      ]
    },
    {
      "cell_type": "code",
      "execution_count": null,
      "metadata": {},
      "outputs": [],
      "source": [
        "import os\n",
        "from dotenv import load_dotenv\n",
        "from huggingface_hub import login\n",
        "\n",
        "# Load environment variables from the .env file\n",
        "load_dotenv()\n",
        "\n",
        "# Get the Hugging Face token from the environment variables\n",
        "hf_token = os.getenv('HUGGINGFACE_TOKEN')\n",
        "# Authenticate with Hugging Face\n",
        "if hf_token:\n",
        "    login(hf_token)\n",
        "else:\n",
        "    print(\"HUGGINGFACE_TOKEN is not set in the .env file.\")"
      ]
    },
    {
      "cell_type": "code",
      "execution_count": null,
      "metadata": {},
      "outputs": [],
      "source": [
        "import torch\n",
        "import torch.nn as nn\n",
        "import torch.optim as optim\n",
        "from torchvision import datasets, transforms\n",
        "from torch.utils.data import DataLoader\n",
        "import time\n",
        "from tqdm import tqdm\n",
        "\n",
        "batch_size = 64\n",
        "# Data augmentation and normalization for training\n",
        "transform_train = transforms.Compose([\n",
        "    transforms.RandomCrop(28, padding=4),\n",
        "    transforms.RandomHorizontalFlip(),\n",
        "    transforms.ToTensor(),\n",
        "    transforms.Normalize((0.4914, 0.4822, 0.4465), (0.2023, 0.1994, 0.2010)),\n",
        "])\n",
        "\n",
        "# Normalization for validation\n",
        "transform_val = transforms.Compose([\n",
        "    transforms.ToTensor(),\n",
        "    transforms.Normalize((0.4914, 0.4822, 0.4465), (0.2023, 0.1994, 0.2010)),\n",
        "])\n",
        "\n",
        "# Load CIFAR10 dataset\n",
        "# train_dataset = datasets.CIFAR10(root='./data', train=True, download=True, transform=transform_train)\n",
        "# val_dataset = datasets.CIFAR10(root='./data', train=False, download=True, transform=transform_val)\n",
        "\n",
        "# Load CIFAR100 dataset\n",
        "train_dataset = datasets.CIFAR100(root='./data', train=True, download=True, transform=transform_train)\n",
        "val_dataset = datasets.CIFAR100(root='./data', train=False, download=True, transform=transform_val)\n",
        "\n",
        "train_loader = DataLoader(train_dataset, batch_size=batch_size, shuffle=False, num_workers=2)\n",
        "val_loader = DataLoader(val_dataset, batch_size=batch_size, shuffle=False, num_workers=2)"
      ]
    },
    {
      "cell_type": "markdown",
      "metadata": {},
      "source": [
        "## Image Grid Plans \n",
        "\n",
        "- Goal: To see what each neuron maximally activates on in the test set of images --> leads to crude feature understanding \n",
        "\n",
        "Broad Steps:\n",
        "- Pass an image into the mnist [x]\n",
        "- Store all the activations [x]\n",
        "- Pass the activations into the sae [x]\n",
        "- retrive the activations from the encoder [x]\n",
        "- Stack those activations for all images [x]\n",
        "- Then for each neuron find the top 10 activating images\n",
        "- Store those images to a file in a grid \n",
        "\n",
        "Future Steps:\n",
        "- Auto-interp with a VLM "
      ]
    },
    {
      "cell_type": "code",
      "execution_count": null,
      "metadata": {},
      "outputs": [],
      "source": [
        "model = MNISTModel()\n",
        "model.load_state_dict(torch.load('models/mnist_model.pth'))"
      ]
    },
    {
      "cell_type": "code",
      "execution_count": null,
      "metadata": {},
      "outputs": [],
      "source": [
        "from tqdm import tqdm \n",
        "import matplotlib.pyplot as plt\n",
        "\n",
        "model.clear_cache()\n",
        "model.eval()\n",
        "with torch.no_grad():\n",
        "    for images, labels in tqdm(train_loader):\n",
        "        outputs = model(images)"
      ]
    },
    {
      "cell_type": "code",
      "execution_count": null,
      "metadata": {},
      "outputs": [],
      "source": [
        "model.get_cached_activations('fc1').shape"
      ]
    },
    {
      "cell_type": "code",
      "execution_count": 39,
      "metadata": {},
      "outputs": [],
      "source": [
        "analysis_activations = model.get_cached_activations(selected_layer_config.name)\n",
        "analysis_loader = DataLoader(analysis_activations, batch_size=batch_size, shuffle=False) # do not shuffle"
      ]
    },
    {
      "cell_type": "code",
      "execution_count": 40,
      "metadata": {},
      "outputs": [],
      "source": [
        "torch.save(analysis_activations, 'embeddings/MNIST_fc1_activations_CIFAR100.pth')"
      ]
    },
    {
      "cell_type": "code",
      "execution_count": null,
      "metadata": {},
      "outputs": [],
      "source": [
        "# pass the activations through the SAE and save the intermediary activations \n",
        "sae.clear_cache()\n",
        "sae.eval()\n",
        "with torch.no_grad():\n",
        "    for activations in tqdm(analysis_loader):\n",
        "        encoded, decoded = sae(activations, cache_activations=True)"
      ]
    },
    {
      "cell_type": "code",
      "execution_count": null,
      "metadata": {},
      "outputs": [],
      "source": [
        "sae_activations = sae.get_cached_activations('encoder')\n",
        "torch.save(sae_activations, 'embeddings/MNIST_fc1_CIFAR100_sae_activations.pth')\n",
        "sae_activations.shape"
      ]
    },
    {
      "cell_type": "code",
      "execution_count": null,
      "metadata": {},
      "outputs": [],
      "source": [
        "# now I have the sae activations for every image for every neuron \n",
        "#need to validate that the loaders have the same ordering for image "
      ]
    },
    {
      "cell_type": "code",
      "execution_count": null,
      "metadata": {},
      "outputs": [],
      "source": [
        "sae_activations = torch.load('embeddings/MNIST_fc1_CIFAR100_sae_activations.pth')\n",
        "sae_activations.shape"
      ]
    },
    {
      "cell_type": "code",
      "execution_count": 44,
      "metadata": {},
      "outputs": [],
      "source": [
        "transposed = sae_activations.T"
      ]
    },
    {
      "cell_type": "code",
      "execution_count": null,
      "metadata": {},
      "outputs": [],
      "source": [
        "transposed.shape"
      ]
    },
    {
      "cell_type": "code",
      "execution_count": 46,
      "metadata": {},
      "outputs": [],
      "source": [
        "max_10_indices_per_neuron = torch.argsort(transposed, descending=True, dim=1)[:, :10]\n",
        "max_10_indices_per_neuron_value = torch.gather(transposed, 1, max_10_indices_per_neuron)"
      ]
    },
    {
      "cell_type": "code",
      "execution_count": null,
      "metadata": {},
      "outputs": [],
      "source": [
        "print(max_10_indices_per_neuron_value.shape)"
      ]
    },
    {
      "cell_type": "code",
      "execution_count": null,
      "metadata": {},
      "outputs": [],
      "source": [
        "max = 0\n",
        "max_indices = []\n",
        "for i in range(max_10_indices_per_neuron_value.shape[0]):\n",
        "    values = max_10_indices_per_neuron_value[i]\n",
        "    nonzero_count = torch.count_nonzero(values)\n",
        "\n",
        "    if nonzero_count > max:\n",
        "        max = nonzero_count\n",
        "        max_indices = max_10_indices_per_neuron[i]\n",
        "\n",
        "    print(values, nonzero_count)\n",
        "\n",
        "print(max)"
      ]
    },
    {
      "cell_type": "code",
      "execution_count": null,
      "metadata": {},
      "outputs": [],
      "source": [
        "max_10_indices_per_neuron_value"
      ]
    },
    {
      "cell_type": "code",
      "execution_count": null,
      "metadata": {},
      "outputs": [],
      "source": [
        "max_10_indices_per_neuron.shape"
      ]
    },
    {
      "cell_type": "code",
      "execution_count": null,
      "metadata": {},
      "outputs": [],
      "source": [
        "max_10_indices_per_neuron[0]"
      ]
    },
    {
      "cell_type": "code",
      "execution_count": 53,
      "metadata": {},
      "outputs": [],
      "source": [
        "import torch\n",
        "from torchvision.utils import make_grid\n",
        "import matplotlib.pyplot as plt\n",
        "from torchvision import datasets, transforms\n",
        "\n",
        "# Tensor of indices\n",
        "indices = max_10_indices_per_neuron[0]"
      ]
    },
    {
      "cell_type": "code",
      "execution_count": null,
      "metadata": {},
      "outputs": [],
      "source": [
        "indices"
      ]
    },
    {
      "cell_type": "code",
      "execution_count": null,
      "metadata": {},
      "outputs": [],
      "source": [
        "original_dataset = datasets.CIFAR100(root='./data', train=True, download=True, transform=None)"
      ]
    },
    {
      "cell_type": "code",
      "execution_count": null,
      "metadata": {},
      "outputs": [],
      "source": [
        "plt.figure(figsize=(15, 10))\n",
        "for i in range(10):\n",
        "    idx = indices[i]\n",
        "    img = original_dataset.data[idx]\n",
        "    \n",
        "    plt.subplot(4, 5, i+1)\n",
        "    plt.imshow(img)\n",
        "    plt.axis('off')\n",
        "    plt.title(f'Index: {idx}')\n",
        "\n",
        "plt.tight_layout()\n",
        "plt.show()"
      ]
    },
    {
      "cell_type": "code",
      "execution_count": null,
      "metadata": {},
      "outputs": [],
      "source": [
        "indices = max_10_indices_per_neuron[10]\n",
        "\n",
        "plt.figure(figsize=(15, 4))  # Adjusted figure size for 10 images\n",
        "for i, idx in enumerate(indices):\n",
        "    if transposed[0][idx] == 0:\n",
        "        print('skipped idx', idx)\n",
        "        continue\n",
        "\n",
        "    img = train_dataset.data[idx]\n",
        "    \n",
        "    plt.subplot(2, 5, i+1)  # 2 rows, 5 columns\n",
        "    plt.imshow(img)\n",
        "    plt.axis('off')\n",
        "    plt.title(f'Index: {idx}')\n",
        "\n",
        "plt.tight_layout()\n",
        "plt.show()"
      ]
    },
    {
      "cell_type": "code",
      "execution_count": 28,
      "metadata": {},
      "outputs": [],
      "source": [
        "def plot_indices(indices):\n",
        "    plt.figure(figsize=(15, 4))  # Adjusted figure size for 10 images\n",
        "    \n",
        "    for i, idx in enumerate(indices):\n",
        "        img = train_dataset.data[idx]\n",
        "        \n",
        "        plt.subplot(2, 5, i+1)  # 2 rows, 5 columns\n",
        "        plt.imshow(img)\n",
        "        plt.axis('off')\n",
        "        plt.title(f'Index: {idx}')\n",
        "\n",
        "    plt.tight_layout()\n",
        "    plt.show()"
      ]
    },
    {
      "cell_type": "code",
      "execution_count": null,
      "metadata": {},
      "outputs": [],
      "source": [
        "for i in range(len(max_10_indices_per_neuron)):\n",
        "    indices = max_10_indices_per_neuron[i]\n",
        "    plot_indices(indices)"
      ]
    },
    {
      "cell_type": "markdown",
      "metadata": {},
      "source": [
        "#### Saving images to a file"
      ]
    },
    {
      "cell_type": "code",
      "execution_count": 56,
      "metadata": {},
      "outputs": [],
      "source": [
        "def plot_indices_save(indices, filename, neuron_idx):\n",
        "    plt.figure(figsize=(15, 4))  # Adjusted figure size for 10 images\n",
        "    count = 0\n",
        "    for i, idx in enumerate(indices):\n",
        "        if transposed[neuron_idx][idx] == 0:\n",
        "            print('skipped idx', idx)\n",
        "            continue\n",
        "        count += 1\n",
        "\n",
        "        img = train_dataset.data[idx]\n",
        "        \n",
        "        plt.subplot(2, 5, i+1)  # 2 rows, 5 columns\n",
        "        plt.imshow(img)\n",
        "        plt.axis('off')\n",
        "        plt.title(f'Index: {idx}')\n",
        "\n",
        "    if plt.gca().has_data():\n",
        "        plt.tight_layout()\n",
        "        plt.savefig(f'docs/neuron_CIFAR100/{count}_{filename}')  # Save the figure to a file\n",
        "    plt.close()  # Close the figure to free memory"
      ]
    },
    {
      "cell_type": "code",
      "execution_count": null,
      "metadata": {},
      "outputs": [],
      "source": [
        "from tqdm import tqdm\n",
        "\n",
        "all_plots_filename = 'docs/all_neuron_plots.png'\n",
        "plt.figure(figsize=(15, 4 * len(max_10_indices_per_neuron)))  # Adjust height based on number of neurons\n",
        "\n",
        "for i in tqdm(range(len(max_10_indices_per_neuron)), desc=\"Plotting neurons\"):\n",
        "    indices = max_10_indices_per_neuron[i]\n",
        "    plt.subplot(len(max_10_indices_per_neuron), 1, i + 1)  # One row per neuron\n",
        "    plot_indices_save(indices, f'neuron_{i}_plots.png', i)  # Save individual plots if needed\n",
        "\n",
        "plt.savefig(all_plots_filename)  # Save the combined figure\n",
        "plt.close()  # Close the figure to free memory"
      ]
    },
    {
      "cell_type": "code",
      "execution_count": null,
      "metadata": {},
      "outputs": [],
      "source": []
    }
  ],
  "metadata": {
    "colab": {
      "provenance": []
    },
    "kernelspec": {
      "display_name": "Python 3",
      "name": "python3"
    },
    "language_info": {
      "codemirror_mode": {
        "name": "ipython",
        "version": 3
      },
      "file_extension": ".py",
      "mimetype": "text/x-python",
      "name": "python",
      "nbconvert_exporter": "python",
      "pygments_lexer": "ipython3",
      "version": "3.12.5"
    }
  },
  "nbformat": 4,
  "nbformat_minor": 0
}
